{
 "cells": [
  {
   "cell_type": "markdown",
   "metadata": {},
   "source": [
    "# Income Expenses Prediction"
   ]
  },
  {
   "cell_type": "markdown",
   "metadata": {},
   "source": [
    "## Import Libraries and Load Data"
   ]
  },
  {
   "cell_type": "code",
   "execution_count": 140,
   "metadata": {},
   "outputs": [],
   "source": [
    "import pandas as pd\n",
    "import matplotlib.pyplot as plt\n",
    "import matplotlib.ticker as mticker\n",
    "import seaborn as sns\n",
    "from statsmodels.tsa.stattools import adfuller\n",
    "#from pmdarima import auto_arima\n",
    "from statsmodels.tsa.arima.model import ARIMA\n",
    "from statsmodels.tsa.holtwinters import ExponentialSmoothing"
   ]
  },
  {
   "cell_type": "code",
   "execution_count": 97,
   "metadata": {},
   "outputs": [],
   "source": [
    "df = pd.read_csv('/Users/adrianacuppuleri/Library/Mobile Documents/com~apple~CloudDocs/GITHUB ADRIANA/Financial-Behavior-Prediction/data/2016-09-19_79351_training.csv')"
   ]
  },
  {
   "cell_type": "code",
   "execution_count": 98,
   "metadata": {},
   "outputs": [
    {
     "data": {
      "text/html": [
       "<div>\n",
       "<style scoped>\n",
       "    .dataframe tbody tr th:only-of-type {\n",
       "        vertical-align: middle;\n",
       "    }\n",
       "\n",
       "    .dataframe tbody tr th {\n",
       "        vertical-align: top;\n",
       "    }\n",
       "\n",
       "    .dataframe thead th {\n",
       "        text-align: right;\n",
       "    }\n",
       "</style>\n",
       "<table border=\"1\" class=\"dataframe\">\n",
       "  <thead>\n",
       "    <tr style=\"text-align: right;\">\n",
       "      <th></th>\n",
       "      <th>user_id</th>\n",
       "      <th>transaction_date</th>\n",
       "      <th>transaction_type</th>\n",
       "      <th>mcc_group</th>\n",
       "      <th>amount_n26_currency</th>\n",
       "      <th>dataset_transaction</th>\n",
       "      <th>dataset_user</th>\n",
       "    </tr>\n",
       "  </thead>\n",
       "  <tbody>\n",
       "    <tr>\n",
       "      <th>0</th>\n",
       "      <td>a78884f5e76951188c1e719d4956773a</td>\n",
       "      <td>2016-02-01</td>\n",
       "      <td>DT</td>\n",
       "      <td>NaN</td>\n",
       "      <td>350</td>\n",
       "      <td>training</td>\n",
       "      <td>training</td>\n",
       "    </tr>\n",
       "    <tr>\n",
       "      <th>1</th>\n",
       "      <td>b0333294fef6ff1299102a70ad46b126</td>\n",
       "      <td>2016-02-01</td>\n",
       "      <td>DT</td>\n",
       "      <td>NaN</td>\n",
       "      <td>202</td>\n",
       "      <td>training</td>\n",
       "      <td>training</td>\n",
       "    </tr>\n",
       "    <tr>\n",
       "      <th>2</th>\n",
       "      <td>7b8d2a2780adae0cd0c248e92c1b28dc</td>\n",
       "      <td>2016-02-01</td>\n",
       "      <td>DT</td>\n",
       "      <td>NaN</td>\n",
       "      <td>291</td>\n",
       "      <td>training</td>\n",
       "      <td>training</td>\n",
       "    </tr>\n",
       "    <tr>\n",
       "      <th>3</th>\n",
       "      <td>cc4abaa500f7db4390ae3f02bd36d805</td>\n",
       "      <td>2016-02-01</td>\n",
       "      <td>DT</td>\n",
       "      <td>NaN</td>\n",
       "      <td>214</td>\n",
       "      <td>training</td>\n",
       "      <td>training</td>\n",
       "    </tr>\n",
       "    <tr>\n",
       "      <th>4</th>\n",
       "      <td>49b99d1d5ba028566639e8b3eb7c055b</td>\n",
       "      <td>2016-02-01</td>\n",
       "      <td>DT</td>\n",
       "      <td>NaN</td>\n",
       "      <td>272</td>\n",
       "      <td>training</td>\n",
       "      <td>training</td>\n",
       "    </tr>\n",
       "  </tbody>\n",
       "</table>\n",
       "</div>"
      ],
      "text/plain": [
       "                            user_id transaction_date transaction_type  \\\n",
       "0  a78884f5e76951188c1e719d4956773a       2016-02-01               DT   \n",
       "1  b0333294fef6ff1299102a70ad46b126       2016-02-01               DT   \n",
       "2  7b8d2a2780adae0cd0c248e92c1b28dc       2016-02-01               DT   \n",
       "3  cc4abaa500f7db4390ae3f02bd36d805       2016-02-01               DT   \n",
       "4  49b99d1d5ba028566639e8b3eb7c055b       2016-02-01               DT   \n",
       "\n",
       "   mcc_group  amount_n26_currency dataset_transaction dataset_user  \n",
       "0        NaN                  350            training     training  \n",
       "1        NaN                  202            training     training  \n",
       "2        NaN                  291            training     training  \n",
       "3        NaN                  214            training     training  \n",
       "4        NaN                  272            training     training  "
      ]
     },
     "execution_count": 98,
     "metadata": {},
     "output_type": "execute_result"
    }
   ],
   "source": [
    "df.head()"
   ]
  },
  {
   "cell_type": "code",
   "execution_count": 99,
   "metadata": {},
   "outputs": [
    {
     "name": "stdout",
     "output_type": "stream",
     "text": [
      "<class 'pandas.core.frame.DataFrame'>\n",
      "RangeIndex: 408546 entries, 0 to 408545\n",
      "Data columns (total 7 columns):\n",
      " #   Column               Non-Null Count   Dtype  \n",
      "---  ------               --------------   -----  \n",
      " 0   user_id              408546 non-null  object \n",
      " 1   transaction_date     408546 non-null  object \n",
      " 2   transaction_type     408546 non-null  object \n",
      " 3   mcc_group            258324 non-null  float64\n",
      " 4   amount_n26_currency  408546 non-null  int64  \n",
      " 5   dataset_transaction  408546 non-null  object \n",
      " 6   dataset_user         408546 non-null  object \n",
      "dtypes: float64(1), int64(1), object(5)\n",
      "memory usage: 21.8+ MB\n"
     ]
    }
   ],
   "source": [
    "df.info()"
   ]
  },
  {
   "cell_type": "code",
   "execution_count": 100,
   "metadata": {},
   "outputs": [],
   "source": [
    "# Convert 'transaction_date' to datetime\n",
    "df['transaction_date'] = pd.to_datetime(df['transaction_date'])"
   ]
  },
  {
   "cell_type": "code",
   "execution_count": 101,
   "metadata": {},
   "outputs": [
    {
     "data": {
      "text/plain": [
       "count    408546.000000\n",
       "mean         52.764164\n",
       "std         111.870681\n",
       "min           3.000000\n",
       "25%           7.000000\n",
       "50%          17.000000\n",
       "75%          38.000000\n",
       "max        1166.000000\n",
       "Name: amount_n26_currency, dtype: float64"
      ]
     },
     "execution_count": 101,
     "metadata": {},
     "output_type": "execute_result"
    }
   ],
   "source": [
    "df.amount_n26_currency.describe()"
   ]
  },
  {
   "cell_type": "markdown",
   "metadata": {},
   "source": [
    "## Data Exploration"
   ]
  },
  {
   "cell_type": "code",
   "execution_count": 102,
   "metadata": {},
   "outputs": [
    {
     "data": {
      "text/plain": [
       "transaction_type\n",
       "PT     258324\n",
       "CT      63837\n",
       "DT      40528\n",
       "DD      29869\n",
       "FT       6528\n",
       "DR       4727\n",
       "BBU      3561\n",
       "BUB       942\n",
       "TUB       230\n",
       "Name: count, dtype: int64"
      ]
     },
     "execution_count": 102,
     "metadata": {},
     "output_type": "execute_result"
    }
   ],
   "source": [
    "df['transaction_type'].value_counts()"
   ]
  },
  {
   "cell_type": "code",
   "execution_count": 103,
   "metadata": {},
   "outputs": [
    {
     "data": {
      "text/plain": [
       "mcc_group\n",
       "14.0        24\n",
       "13.0       141\n",
       "9.0        287\n",
       "15.0       329\n",
       "12.0       873\n",
       "5.0       3337\n",
       "11.0      5803\n",
       "10.0      7282\n",
       "7.0      10888\n",
       "16.0     11150\n",
       "17.0     11466\n",
       "4.0      20194\n",
       "8.0      20610\n",
       "3.0      20875\n",
       "6.0      24672\n",
       "2.0      50586\n",
       "1.0      69807\n",
       "NaN     150222\n",
       "Name: count, dtype: int64"
      ]
     },
     "execution_count": 103,
     "metadata": {},
     "output_type": "execute_result"
    }
   ],
   "source": [
    "df['mcc_group'].value_counts(dropna=False).sort_values()\n",
    "#the group with highest value counts is NaN"
   ]
  },
  {
   "cell_type": "code",
   "execution_count": 104,
   "metadata": {},
   "outputs": [
    {
     "name": "stderr",
     "output_type": "stream",
     "text": [
      "/var/folders/mm/gw92vpys6rggjz_4z42s244w0000gn/T/ipykernel_50643/988574375.py:26: FutureWarning: A value is trying to be set on a copy of a DataFrame or Series through chained assignment using an inplace method.\n",
      "The behavior will change in pandas 3.0. This inplace method will never work because the intermediate object on which we are setting values always behaves as a copy.\n",
      "\n",
      "For example, when doing 'df[col].method(value, inplace=True)', try using 'df.method({col: value}, inplace=True)' or df[col] = df[col].method(value) instead, to perform the operation inplace on the original object.\n",
      "\n",
      "\n",
      "  df['mcc_group_category'].fillna('NA', inplace=True)\n"
     ]
    }
   ],
   "source": [
    "#for clarity, I add a col with correspondent categories of mcc_group\n",
    "mcc_group_mapping = {\n",
    "    1: 'ATM',\n",
    "    2: 'Groceries',\n",
    "    3: 'Gastronomie',\n",
    "    4: 'Shopping/(Fashion)',\n",
    "    5: 'Home and DIY, House Energy',\n",
    "    6: 'Travel/Hotel',\n",
    "    7: 'Transport',\n",
    "    8: 'Automotive/Gas',\n",
    "    9: 'Family/Babies/Children',\n",
    "    10: 'Entertainment/Leisure',\n",
    "    11: 'Drugstore',\n",
    "    12: 'Finance',\n",
    "    13: 'Insurance',\n",
    "    14: 'Taxes and Fines',\n",
    "    15: 'Education',\n",
    "    16: 'Miscellaneous',\n",
    "    17: 'Business Expenses'\n",
    "}\n",
    "\n",
    "# Create a new column 'mcc_group_category' by mapping mcc_group to category name\n",
    "df['mcc_group_category'] = df['mcc_group'].map(mcc_group_mapping)\n",
    "\n",
    "# Fill in the NA values with 'NA' for missing mcc_group\n",
    "df['mcc_group_category'].fillna('NA', inplace=True)"
   ]
  },
  {
   "cell_type": "code",
   "execution_count": 105,
   "metadata": {},
   "outputs": [
    {
     "data": {
      "text/plain": [
       "mcc_group  mcc_group_category        \n",
       "1.0        ATM                            69807\n",
       "2.0        Groceries                      50586\n",
       "3.0        Gastronomie                    20875\n",
       "4.0        Shopping/(Fashion)             20194\n",
       "5.0        Home and DIY, House Energy      3337\n",
       "6.0        Travel/Hotel                   24672\n",
       "7.0        Transport                      10888\n",
       "8.0        Automotive/Gas                 20610\n",
       "9.0        Family/Babies/Children           287\n",
       "10.0       Entertainment/Leisure           7282\n",
       "11.0       Drugstore                       5803\n",
       "12.0       Finance                          873\n",
       "13.0       Insurance                        141\n",
       "14.0       Taxes and Fines                   24\n",
       "15.0       Education                        329\n",
       "16.0       Miscellaneous                  11150\n",
       "17.0       Business Expenses              11466\n",
       "NaN        NA                            150222\n",
       "Name: count, dtype: int64"
      ]
     },
     "execution_count": 105,
     "metadata": {},
     "output_type": "execute_result"
    }
   ],
   "source": [
    "df[['mcc_group', 'mcc_group_category']].value_counts(dropna=False).sort_index()"
   ]
  },
  {
   "cell_type": "markdown",
   "metadata": {},
   "source": [
    "### Data Visualization"
   ]
  },
  {
   "cell_type": "code",
   "execution_count": 106,
   "metadata": {},
   "outputs": [
    {
     "data": {
      "image/png": "[encoded data removed]",
      "text/plain": [
       "<Figure size 1000x600 with 1 Axes>"
      ]
     },
     "metadata": {},
     "output_type": "display_data"
    }
   ],
   "source": [
    "# distribution of transaction amounts\n",
    "plt.figure(figsize=(10, 6))\n",
    "sns.histplot(df['amount_n26_currency'], bins=24, kde=True)\n",
    "\n",
    "plt.title('Distribution of Transaction Amounts')\n",
    "plt.xlabel('Transaction Amount')\n",
    "plt.ylabel('Frequency')\n",
    "plt.show()\n",
    "\n",
    "#The bulk of the transactions seem to be clustered in the range of 0 to around 50 units."
   ]
  },
  {
   "cell_type": "code",
   "execution_count": 107,
   "metadata": {},
   "outputs": [
    {
     "data": {
      "image/png": "[encoded data removed]",
      "text/plain": [
       "<Figure size 1000x600 with 1 Axes>"
      ]
     },
     "metadata": {},
     "output_type": "display_data"
    }
   ],
   "source": [
    "#the count of each transaction type\n",
    "plt.figure(figsize=(10, 6))\n",
    "sns.countplot(y='transaction_type', data=df)\n",
    "\n",
    "plt.title('Transaction Types Count')\n",
    "plt.xlabel('Count')\n",
    "plt.ylabel('Transaction Type')\n",
    "plt.show()\n",
    "\n",
    "#PT (Presentment) has the highest count"
   ]
  },
  {
   "cell_type": "code",
   "execution_count": 108,
   "metadata": {},
   "outputs": [
    {
     "data": {
      "image/png": "[encoded data removed]",
      "text/plain": [
       "<Figure size 1000x600 with 1 Axes>"
      ]
     },
     "metadata": {},
     "output_type": "display_data"
    }
   ],
   "source": [
    "#the count of transactions per MCC group\n",
    "plt.figure(figsize=(10, 6))\n",
    "sns.countplot(y='mcc_group_category', data=df)\n",
    "\n",
    "plt.title('MCC Group Count')\n",
    "plt.xlabel('Count')\n",
    "plt.ylabel('MCC Group')\n",
    "plt.show()"
   ]
  },
  {
   "cell_type": "code",
   "execution_count": 109,
   "metadata": {},
   "outputs": [
    {
     "data": {
      "text/plain": [
       "transaction_date\n",
       "2016-02    3118699\n",
       "2016-03    3577873\n",
       "2016-04    3628088\n",
       "2016-05    3715338\n",
       "2016-06    3710907\n",
       "2016-07    3805683\n",
       "Freq: M, Name: amount_n26_currency, dtype: int64"
      ]
     },
     "execution_count": 109,
     "metadata": {},
     "output_type": "execute_result"
    }
   ],
   "source": [
    "#time-series exploration\n",
    "# Group by month and sum the transaction amounts\n",
    "monthly_transactions = df.groupby(df['transaction_date'].dt.to_period('M'))['amount_n26_currency'].sum()\n",
    "monthly_transactions"
   ]
  },
  {
   "cell_type": "code",
   "execution_count": 110,
   "metadata": {},
   "outputs": [
    {
     "data": {
      "image/png": "[encoded data removed]",
      "text/plain": [
       "<Figure size 1000x600 with 1 Axes>"
      ]
     },
     "metadata": {},
     "output_type": "display_data"
    }
   ],
   "source": [
    "# the trend of monthly transactions\n",
    "plt.figure(figsize=(10, 6))\n",
    "monthly_transactions.plot(kind='line')\n",
    "plt.ylim(3000000, 4000000)\n",
    "plt.gca().yaxis.set_major_formatter(mticker.FuncFormatter(lambda x, _: f'{int(x/1e6)}M'))\n",
    "\n",
    "plt.title('Monthly Total Transaction Amounts')\n",
    "plt.xlabel('Month')\n",
    "plt.ylabel('Total Transaction Amount')\n",
    "plt.show()"
   ]
  },
  {
   "cell_type": "code",
   "execution_count": 111,
   "metadata": {},
   "outputs": [],
   "source": [
    "# Create a classification dictionary\n",
    "transaction_classification = {\n",
    "    'PT': 'Expense',\n",
    "    'DD': 'Expense',\n",
    "    'DR': 'Income',\n",
    "    'CT': 'Income',\n",
    "    'FT': 'Expense',\n",
    "    'BBU': 'Income',\n",
    "    'BUB': 'Expense',\n",
    "    'DT': 'Income',\n",
    "    'TUB': 'Expense'\n",
    "}\n",
    "\n",
    "df['transaction_flow'] = df['transaction_type'].map(transaction_classification)"
   ]
  },
  {
   "cell_type": "code",
   "execution_count": 112,
   "metadata": {},
   "outputs": [],
   "source": [
    "# Extract the year and month from the transaction date\n",
    "df['month'] = df['transaction_date'].dt.to_period('M')\n",
    "\n",
    "# Group the data by 'month' and 'transaction_flow' (Income/Expense) and sum the amounts\n",
    "monthly_totals = df.groupby(['month', 'transaction_flow'])['amount_n26_currency'].sum().unstack()\n",
    "\n",
    "# Fill any missing values with 0 (if some months don't have income or expenses)\n",
    "monthly_totals.fillna(0, inplace=True)"
   ]
  },
  {
   "cell_type": "code",
   "execution_count": 113,
   "metadata": {},
   "outputs": [
    {
     "data": {
      "text/plain": [
       "month\n",
       "2016-02    2031898\n",
       "2016-03    2280448\n",
       "2016-04    2319689\n",
       "2016-05    2317467\n",
       "2016-06    2336558\n",
       "2016-07    2365555\n",
       "Freq: M, Name: Income, dtype: int64"
      ]
     },
     "execution_count": 113,
     "metadata": {},
     "output_type": "execute_result"
    }
   ],
   "source": [
    "monthly_totals['Income']"
   ]
  },
  {
   "cell_type": "code",
   "execution_count": 114,
   "metadata": {},
   "outputs": [
    {
     "data": {
      "text/plain": [
       "month\n",
       "2016-02    1086801\n",
       "2016-03    1297425\n",
       "2016-04    1308399\n",
       "2016-05    1397871\n",
       "2016-06    1374349\n",
       "2016-07    1440128\n",
       "Freq: M, Name: Expense, dtype: int64"
      ]
     },
     "execution_count": 114,
     "metadata": {},
     "output_type": "execute_result"
    }
   ],
   "source": [
    "monthly_totals['Expense']"
   ]
  },
  {
   "cell_type": "code",
   "execution_count": 115,
   "metadata": {},
   "outputs": [
    {
     "data": {
      "image/png": "[encoded data removed]",
      "text/plain": [
       "<Figure size 1000x600 with 1 Axes>"
      ]
     },
     "metadata": {},
     "output_type": "display_data"
    }
   ],
   "source": [
    "#  income and expenses over months\n",
    "plt.figure(figsize=(10, 6))\n",
    "# \n",
    "plt.plot(monthly_totals.index.astype(str), monthly_totals['Income'], label='Income', marker='o')\n",
    "\n",
    "# Plot Expenses\n",
    "plt.plot(monthly_totals.index.astype(str), monthly_totals['Expense'], label='Expenses', marker='o')\n",
    "\n",
    "# Adding titles and labels\n",
    "plt.title('Income and Expenses Over Time')\n",
    "plt.xlabel('Month')\n",
    "plt.ylabel('Total Amount')\n",
    "plt.xticks(rotation=45)\n",
    "plt.legend()\n",
    "\n",
    "# Show the plot\n",
    "plt.tight_layout()\n",
    "plt.show()\n"
   ]
  },
  {
   "cell_type": "markdown",
   "metadata": {},
   "source": [
    "## Data Preprocessing"
   ]
  },
  {
   "cell_type": "markdown",
   "metadata": {},
   "source": [
    "### Handling Missing values and duplicates"
   ]
  },
  {
   "cell_type": "code",
   "execution_count": 116,
   "metadata": {},
   "outputs": [
    {
     "name": "stdout",
     "output_type": "stream",
     "text": [
      "user_id                     0\n",
      "transaction_date            0\n",
      "transaction_type            0\n",
      "mcc_group              150222\n",
      "amount_n26_currency         0\n",
      "dataset_transaction         0\n",
      "dataset_user                0\n",
      "mcc_group_category          0\n",
      "transaction_flow            0\n",
      "month                       0\n",
      "dtype: int64\n"
     ]
    }
   ],
   "source": [
    "print(df.isnull().sum())"
   ]
  },
  {
   "cell_type": "code",
   "execution_count": 117,
   "metadata": {},
   "outputs": [
    {
     "data": {
      "text/html": [
       "<div>\n",
       "<style scoped>\n",
       "    .dataframe tbody tr th:only-of-type {\n",
       "        vertical-align: middle;\n",
       "    }\n",
       "\n",
       "    .dataframe tbody tr th {\n",
       "        vertical-align: top;\n",
       "    }\n",
       "\n",
       "    .dataframe thead th {\n",
       "        text-align: right;\n",
       "    }\n",
       "</style>\n",
       "<table border=\"1\" class=\"dataframe\">\n",
       "  <thead>\n",
       "    <tr style=\"text-align: right;\">\n",
       "      <th>mcc_group_category</th>\n",
       "      <th>ATM</th>\n",
       "      <th>Automotive/Gas</th>\n",
       "      <th>Business Expenses</th>\n",
       "      <th>Drugstore</th>\n",
       "      <th>Education</th>\n",
       "      <th>Entertainment/Leisure</th>\n",
       "      <th>Family/Babies/Children</th>\n",
       "      <th>Finance</th>\n",
       "      <th>Gastronomie</th>\n",
       "      <th>Groceries</th>\n",
       "      <th>Home and DIY, House Energy</th>\n",
       "      <th>Insurance</th>\n",
       "      <th>Miscellaneous</th>\n",
       "      <th>NA</th>\n",
       "      <th>Shopping/(Fashion)</th>\n",
       "      <th>Taxes and Fines</th>\n",
       "      <th>Transport</th>\n",
       "      <th>Travel/Hotel</th>\n",
       "    </tr>\n",
       "    <tr>\n",
       "      <th>transaction_type</th>\n",
       "      <th></th>\n",
       "      <th></th>\n",
       "      <th></th>\n",
       "      <th></th>\n",
       "      <th></th>\n",
       "      <th></th>\n",
       "      <th></th>\n",
       "      <th></th>\n",
       "      <th></th>\n",
       "      <th></th>\n",
       "      <th></th>\n",
       "      <th></th>\n",
       "      <th></th>\n",
       "      <th></th>\n",
       "      <th></th>\n",
       "      <th></th>\n",
       "      <th></th>\n",
       "      <th></th>\n",
       "    </tr>\n",
       "  </thead>\n",
       "  <tbody>\n",
       "    <tr>\n",
       "      <th>BBU</th>\n",
       "      <td>0</td>\n",
       "      <td>0</td>\n",
       "      <td>0</td>\n",
       "      <td>0</td>\n",
       "      <td>0</td>\n",
       "      <td>0</td>\n",
       "      <td>0</td>\n",
       "      <td>0</td>\n",
       "      <td>0</td>\n",
       "      <td>0</td>\n",
       "      <td>0</td>\n",
       "      <td>0</td>\n",
       "      <td>0</td>\n",
       "      <td>3561</td>\n",
       "      <td>0</td>\n",
       "      <td>0</td>\n",
       "      <td>0</td>\n",
       "      <td>0</td>\n",
       "    </tr>\n",
       "    <tr>\n",
       "      <th>BUB</th>\n",
       "      <td>0</td>\n",
       "      <td>0</td>\n",
       "      <td>0</td>\n",
       "      <td>0</td>\n",
       "      <td>0</td>\n",
       "      <td>0</td>\n",
       "      <td>0</td>\n",
       "      <td>0</td>\n",
       "      <td>0</td>\n",
       "      <td>0</td>\n",
       "      <td>0</td>\n",
       "      <td>0</td>\n",
       "      <td>0</td>\n",
       "      <td>942</td>\n",
       "      <td>0</td>\n",
       "      <td>0</td>\n",
       "      <td>0</td>\n",
       "      <td>0</td>\n",
       "    </tr>\n",
       "    <tr>\n",
       "      <th>CT</th>\n",
       "      <td>0</td>\n",
       "      <td>0</td>\n",
       "      <td>0</td>\n",
       "      <td>0</td>\n",
       "      <td>0</td>\n",
       "      <td>0</td>\n",
       "      <td>0</td>\n",
       "      <td>0</td>\n",
       "      <td>0</td>\n",
       "      <td>0</td>\n",
       "      <td>0</td>\n",
       "      <td>0</td>\n",
       "      <td>0</td>\n",
       "      <td>63837</td>\n",
       "      <td>0</td>\n",
       "      <td>0</td>\n",
       "      <td>0</td>\n",
       "      <td>0</td>\n",
       "    </tr>\n",
       "    <tr>\n",
       "      <th>DD</th>\n",
       "      <td>0</td>\n",
       "      <td>0</td>\n",
       "      <td>0</td>\n",
       "      <td>0</td>\n",
       "      <td>0</td>\n",
       "      <td>0</td>\n",
       "      <td>0</td>\n",
       "      <td>0</td>\n",
       "      <td>0</td>\n",
       "      <td>0</td>\n",
       "      <td>0</td>\n",
       "      <td>0</td>\n",
       "      <td>0</td>\n",
       "      <td>29869</td>\n",
       "      <td>0</td>\n",
       "      <td>0</td>\n",
       "      <td>0</td>\n",
       "      <td>0</td>\n",
       "    </tr>\n",
       "    <tr>\n",
       "      <th>DR</th>\n",
       "      <td>0</td>\n",
       "      <td>0</td>\n",
       "      <td>0</td>\n",
       "      <td>0</td>\n",
       "      <td>0</td>\n",
       "      <td>0</td>\n",
       "      <td>0</td>\n",
       "      <td>0</td>\n",
       "      <td>0</td>\n",
       "      <td>0</td>\n",
       "      <td>0</td>\n",
       "      <td>0</td>\n",
       "      <td>0</td>\n",
       "      <td>4727</td>\n",
       "      <td>0</td>\n",
       "      <td>0</td>\n",
       "      <td>0</td>\n",
       "      <td>0</td>\n",
       "    </tr>\n",
       "    <tr>\n",
       "      <th>DT</th>\n",
       "      <td>0</td>\n",
       "      <td>0</td>\n",
       "      <td>0</td>\n",
       "      <td>0</td>\n",
       "      <td>0</td>\n",
       "      <td>0</td>\n",
       "      <td>0</td>\n",
       "      <td>0</td>\n",
       "      <td>0</td>\n",
       "      <td>0</td>\n",
       "      <td>0</td>\n",
       "      <td>0</td>\n",
       "      <td>0</td>\n",
       "      <td>40528</td>\n",
       "      <td>0</td>\n",
       "      <td>0</td>\n",
       "      <td>0</td>\n",
       "      <td>0</td>\n",
       "    </tr>\n",
       "    <tr>\n",
       "      <th>FT</th>\n",
       "      <td>0</td>\n",
       "      <td>0</td>\n",
       "      <td>0</td>\n",
       "      <td>0</td>\n",
       "      <td>0</td>\n",
       "      <td>0</td>\n",
       "      <td>0</td>\n",
       "      <td>0</td>\n",
       "      <td>0</td>\n",
       "      <td>0</td>\n",
       "      <td>0</td>\n",
       "      <td>0</td>\n",
       "      <td>0</td>\n",
       "      <td>6528</td>\n",
       "      <td>0</td>\n",
       "      <td>0</td>\n",
       "      <td>0</td>\n",
       "      <td>0</td>\n",
       "    </tr>\n",
       "    <tr>\n",
       "      <th>PT</th>\n",
       "      <td>69807</td>\n",
       "      <td>20610</td>\n",
       "      <td>11466</td>\n",
       "      <td>5803</td>\n",
       "      <td>329</td>\n",
       "      <td>7282</td>\n",
       "      <td>287</td>\n",
       "      <td>873</td>\n",
       "      <td>20875</td>\n",
       "      <td>50586</td>\n",
       "      <td>3337</td>\n",
       "      <td>141</td>\n",
       "      <td>11150</td>\n",
       "      <td>0</td>\n",
       "      <td>20194</td>\n",
       "      <td>24</td>\n",
       "      <td>10888</td>\n",
       "      <td>24672</td>\n",
       "    </tr>\n",
       "    <tr>\n",
       "      <th>TUB</th>\n",
       "      <td>0</td>\n",
       "      <td>0</td>\n",
       "      <td>0</td>\n",
       "      <td>0</td>\n",
       "      <td>0</td>\n",
       "      <td>0</td>\n",
       "      <td>0</td>\n",
       "      <td>0</td>\n",
       "      <td>0</td>\n",
       "      <td>0</td>\n",
       "      <td>0</td>\n",
       "      <td>0</td>\n",
       "      <td>0</td>\n",
       "      <td>230</td>\n",
       "      <td>0</td>\n",
       "      <td>0</td>\n",
       "      <td>0</td>\n",
       "      <td>0</td>\n",
       "    </tr>\n",
       "  </tbody>\n",
       "</table>\n",
       "</div>"
      ],
      "text/plain": [
       "mcc_group_category    ATM  Automotive/Gas  Business Expenses  Drugstore  \\\n",
       "transaction_type                                                          \n",
       "BBU                     0               0                  0          0   \n",
       "BUB                     0               0                  0          0   \n",
       "CT                      0               0                  0          0   \n",
       "DD                      0               0                  0          0   \n",
       "DR                      0               0                  0          0   \n",
       "DT                      0               0                  0          0   \n",
       "FT                      0               0                  0          0   \n",
       "PT                  69807           20610              11466       5803   \n",
       "TUB                     0               0                  0          0   \n",
       "\n",
       "mcc_group_category  Education  Entertainment/Leisure  Family/Babies/Children  \\\n",
       "transaction_type                                                               \n",
       "BBU                         0                      0                       0   \n",
       "BUB                         0                      0                       0   \n",
       "CT                          0                      0                       0   \n",
       "DD                          0                      0                       0   \n",
       "DR                          0                      0                       0   \n",
       "DT                          0                      0                       0   \n",
       "FT                          0                      0                       0   \n",
       "PT                        329                   7282                     287   \n",
       "TUB                         0                      0                       0   \n",
       "\n",
       "mcc_group_category  Finance  Gastronomie  Groceries  \\\n",
       "transaction_type                                      \n",
       "BBU                       0            0          0   \n",
       "BUB                       0            0          0   \n",
       "CT                        0            0          0   \n",
       "DD                        0            0          0   \n",
       "DR                        0            0          0   \n",
       "DT                        0            0          0   \n",
       "FT                        0            0          0   \n",
       "PT                      873        20875      50586   \n",
       "TUB                       0            0          0   \n",
       "\n",
       "mcc_group_category  Home and DIY, House Energy  Insurance  Miscellaneous  \\\n",
       "transaction_type                                                           \n",
       "BBU                                          0          0              0   \n",
       "BUB                                          0          0              0   \n",
       "CT                                           0          0              0   \n",
       "DD                                           0          0              0   \n",
       "DR                                           0          0              0   \n",
       "DT                                           0          0              0   \n",
       "FT                                           0          0              0   \n",
       "PT                                        3337        141          11150   \n",
       "TUB                                          0          0              0   \n",
       "\n",
       "mcc_group_category     NA  Shopping/(Fashion)  Taxes and Fines  Transport  \\\n",
       "transaction_type                                                            \n",
       "BBU                  3561                   0                0          0   \n",
       "BUB                   942                   0                0          0   \n",
       "CT                  63837                   0                0          0   \n",
       "DD                  29869                   0                0          0   \n",
       "DR                   4727                   0                0          0   \n",
       "DT                  40528                   0                0          0   \n",
       "FT                   6528                   0                0          0   \n",
       "PT                      0               20194               24      10888   \n",
       "TUB                   230                   0                0          0   \n",
       "\n",
       "mcc_group_category  Travel/Hotel  \n",
       "transaction_type                  \n",
       "BBU                            0  \n",
       "BUB                            0  \n",
       "CT                             0  \n",
       "DD                             0  \n",
       "DR                             0  \n",
       "DT                             0  \n",
       "FT                             0  \n",
       "PT                         24672  \n",
       "TUB                            0  "
      ]
     },
     "execution_count": 117,
     "metadata": {},
     "output_type": "execute_result"
    }
   ],
   "source": [
    "#Is there a relationship between the missing mcc_group values and other columns?\n",
    "cross_tab = pd.crosstab(df['transaction_type'], df['mcc_group_category'])\n",
    "\n",
    "# Display the cross-tab to see if certain transaction types have a strong connection to specific MCC groups\n",
    "cross_tab"
   ]
  },
  {
   "cell_type": "code",
   "execution_count": 118,
   "metadata": {},
   "outputs": [
    {
     "data": {
      "text/html": [
       "<div>\n",
       "<style scoped>\n",
       "    .dataframe tbody tr th:only-of-type {\n",
       "        vertical-align: middle;\n",
       "    }\n",
       "\n",
       "    .dataframe tbody tr th {\n",
       "        vertical-align: top;\n",
       "    }\n",
       "\n",
       "    .dataframe thead th {\n",
       "        text-align: right;\n",
       "    }\n",
       "</style>\n",
       "<table border=\"1\" class=\"dataframe\">\n",
       "  <thead>\n",
       "    <tr style=\"text-align: right;\">\n",
       "      <th>mcc_group_category</th>\n",
       "      <th>ATM</th>\n",
       "      <th>Automotive/Gas</th>\n",
       "      <th>Business Expenses</th>\n",
       "      <th>Drugstore</th>\n",
       "      <th>Education</th>\n",
       "      <th>Entertainment/Leisure</th>\n",
       "      <th>Family/Babies/Children</th>\n",
       "      <th>Finance</th>\n",
       "      <th>Gastronomie</th>\n",
       "      <th>Groceries</th>\n",
       "      <th>Home and DIY, House Energy</th>\n",
       "      <th>Insurance</th>\n",
       "      <th>Miscellaneous</th>\n",
       "      <th>NA</th>\n",
       "      <th>Shopping/(Fashion)</th>\n",
       "      <th>Taxes and Fines</th>\n",
       "      <th>Transport</th>\n",
       "      <th>Travel/Hotel</th>\n",
       "    </tr>\n",
       "    <tr>\n",
       "      <th>transaction_flow</th>\n",
       "      <th></th>\n",
       "      <th></th>\n",
       "      <th></th>\n",
       "      <th></th>\n",
       "      <th></th>\n",
       "      <th></th>\n",
       "      <th></th>\n",
       "      <th></th>\n",
       "      <th></th>\n",
       "      <th></th>\n",
       "      <th></th>\n",
       "      <th></th>\n",
       "      <th></th>\n",
       "      <th></th>\n",
       "      <th></th>\n",
       "      <th></th>\n",
       "      <th></th>\n",
       "      <th></th>\n",
       "    </tr>\n",
       "  </thead>\n",
       "  <tbody>\n",
       "    <tr>\n",
       "      <th>Expense</th>\n",
       "      <td>69807</td>\n",
       "      <td>20610</td>\n",
       "      <td>11466</td>\n",
       "      <td>5803</td>\n",
       "      <td>329</td>\n",
       "      <td>7282</td>\n",
       "      <td>287</td>\n",
       "      <td>873</td>\n",
       "      <td>20875</td>\n",
       "      <td>50586</td>\n",
       "      <td>3337</td>\n",
       "      <td>141</td>\n",
       "      <td>11150</td>\n",
       "      <td>37569</td>\n",
       "      <td>20194</td>\n",
       "      <td>24</td>\n",
       "      <td>10888</td>\n",
       "      <td>24672</td>\n",
       "    </tr>\n",
       "    <tr>\n",
       "      <th>Income</th>\n",
       "      <td>0</td>\n",
       "      <td>0</td>\n",
       "      <td>0</td>\n",
       "      <td>0</td>\n",
       "      <td>0</td>\n",
       "      <td>0</td>\n",
       "      <td>0</td>\n",
       "      <td>0</td>\n",
       "      <td>0</td>\n",
       "      <td>0</td>\n",
       "      <td>0</td>\n",
       "      <td>0</td>\n",
       "      <td>0</td>\n",
       "      <td>112653</td>\n",
       "      <td>0</td>\n",
       "      <td>0</td>\n",
       "      <td>0</td>\n",
       "      <td>0</td>\n",
       "    </tr>\n",
       "  </tbody>\n",
       "</table>\n",
       "</div>"
      ],
      "text/plain": [
       "mcc_group_category    ATM  Automotive/Gas  Business Expenses  Drugstore  \\\n",
       "transaction_flow                                                          \n",
       "Expense             69807           20610              11466       5803   \n",
       "Income                  0               0                  0          0   \n",
       "\n",
       "mcc_group_category  Education  Entertainment/Leisure  Family/Babies/Children  \\\n",
       "transaction_flow                                                               \n",
       "Expense                   329                   7282                     287   \n",
       "Income                      0                      0                       0   \n",
       "\n",
       "mcc_group_category  Finance  Gastronomie  Groceries  \\\n",
       "transaction_flow                                      \n",
       "Expense                 873        20875      50586   \n",
       "Income                    0            0          0   \n",
       "\n",
       "mcc_group_category  Home and DIY, House Energy  Insurance  Miscellaneous  \\\n",
       "transaction_flow                                                           \n",
       "Expense                                   3337        141          11150   \n",
       "Income                                       0          0              0   \n",
       "\n",
       "mcc_group_category      NA  Shopping/(Fashion)  Taxes and Fines  Transport  \\\n",
       "transaction_flow                                                             \n",
       "Expense              37569               20194               24      10888   \n",
       "Income              112653                   0                0          0   \n",
       "\n",
       "mcc_group_category  Travel/Hotel  \n",
       "transaction_flow                  \n",
       "Expense                    24672  \n",
       "Income                         0  "
      ]
     },
     "execution_count": 118,
     "metadata": {},
     "output_type": "execute_result"
    }
   ],
   "source": [
    "# Create the crosstab comparing transaction_flow with mcc_group_category\n",
    "income_expense_crosstab = pd.crosstab(df['transaction_flow'], df['mcc_group_category'])\n",
    "\n",
    "# Display the result\n",
    "income_expense_crosstab\n"
   ]
  },
  {
   "cell_type": "code",
   "execution_count": 119,
   "metadata": {},
   "outputs": [],
   "source": [
    "# For non-PT transactions assign 'NA' where MCC group is missing\n",
    "non_pt_na_indices = df[(df['transaction_type'] != 'PT') & (df['mcc_group_category'] == 'NA')].index\n",
    "df.loc[non_pt_na_indices, 'mcc_group_category'] = 'Unkown'"
   ]
  },
  {
   "cell_type": "code",
   "execution_count": 120,
   "metadata": {},
   "outputs": [
    {
     "name": "stderr",
     "output_type": "stream",
     "text": [
      "/var/folders/mm/gw92vpys6rggjz_4z42s244w0000gn/T/ipykernel_50643/343710208.py:2: FutureWarning: Setting an item of incompatible dtype is deprecated and will raise an error in a future version of pandas. Value '0' has dtype incompatible with float64, please explicitly cast to a compatible dtype first.\n",
      "  df.loc[non_pt_na_indices1, 'mcc_group'] = '0'\n"
     ]
    }
   ],
   "source": [
    "non_pt_na_indices1 = df[(df['transaction_type'] != 'PT') & (df['mcc_group'].isna())].index\n",
    "df.loc[non_pt_na_indices1, 'mcc_group'] = '0'"
   ]
  },
  {
   "cell_type": "code",
   "execution_count": 121,
   "metadata": {},
   "outputs": [
    {
     "name": "stdout",
     "output_type": "stream",
     "text": [
      "<class 'pandas.core.frame.DataFrame'>\n",
      "RangeIndex: 408546 entries, 0 to 408545\n",
      "Data columns (total 10 columns):\n",
      " #   Column               Non-Null Count   Dtype         \n",
      "---  ------               --------------   -----         \n",
      " 0   user_id              408546 non-null  object        \n",
      " 1   transaction_date     408546 non-null  datetime64[ns]\n",
      " 2   transaction_type     408546 non-null  object        \n",
      " 3   mcc_group            408546 non-null  object        \n",
      " 4   amount_n26_currency  408546 non-null  int64         \n",
      " 5   dataset_transaction  408546 non-null  object        \n",
      " 6   dataset_user         408546 non-null  object        \n",
      " 7   mcc_group_category   408546 non-null  object        \n",
      " 8   transaction_flow     408546 non-null  object        \n",
      " 9   month                408546 non-null  period[M]     \n",
      "dtypes: datetime64[ns](1), int64(1), object(7), period[M](1)\n",
      "memory usage: 31.2+ MB\n"
     ]
    }
   ],
   "source": [
    "df.info()"
   ]
  },
  {
   "cell_type": "code",
   "execution_count": 122,
   "metadata": {},
   "outputs": [
    {
     "data": {
      "text/html": [
       "<div>\n",
       "<style scoped>\n",
       "    .dataframe tbody tr th:only-of-type {\n",
       "        vertical-align: middle;\n",
       "    }\n",
       "\n",
       "    .dataframe tbody tr th {\n",
       "        vertical-align: top;\n",
       "    }\n",
       "\n",
       "    .dataframe thead th {\n",
       "        text-align: right;\n",
       "    }\n",
       "</style>\n",
       "<table border=\"1\" class=\"dataframe\">\n",
       "  <thead>\n",
       "    <tr style=\"text-align: right;\">\n",
       "      <th></th>\n",
       "      <th>user_id</th>\n",
       "      <th>transaction_date</th>\n",
       "      <th>transaction_type</th>\n",
       "      <th>mcc_group</th>\n",
       "      <th>amount_n26_currency</th>\n",
       "      <th>dataset_transaction</th>\n",
       "      <th>dataset_user</th>\n",
       "      <th>mcc_group_category</th>\n",
       "      <th>transaction_flow</th>\n",
       "      <th>month</th>\n",
       "    </tr>\n",
       "  </thead>\n",
       "  <tbody>\n",
       "    <tr>\n",
       "      <th>52</th>\n",
       "      <td>d676b47c24ee99835d24e38953cf7ab6</td>\n",
       "      <td>2016-02-01</td>\n",
       "      <td>DT</td>\n",
       "      <td>0</td>\n",
       "      <td>15</td>\n",
       "      <td>training</td>\n",
       "      <td>training</td>\n",
       "      <td>Unkown</td>\n",
       "      <td>Income</td>\n",
       "      <td>2016-02</td>\n",
       "    </tr>\n",
       "    <tr>\n",
       "      <th>70</th>\n",
       "      <td>ce8150cf1461297516d4f65d8258a36b</td>\n",
       "      <td>2016-02-01</td>\n",
       "      <td>DT</td>\n",
       "      <td>0</td>\n",
       "      <td>5</td>\n",
       "      <td>training</td>\n",
       "      <td>training</td>\n",
       "      <td>Unkown</td>\n",
       "      <td>Income</td>\n",
       "      <td>2016-02</td>\n",
       "    </tr>\n",
       "    <tr>\n",
       "      <th>84</th>\n",
       "      <td>ce8150cf1461297516d4f65d8258a36b</td>\n",
       "      <td>2016-02-01</td>\n",
       "      <td>DT</td>\n",
       "      <td>0</td>\n",
       "      <td>5</td>\n",
       "      <td>training</td>\n",
       "      <td>training</td>\n",
       "      <td>Unkown</td>\n",
       "      <td>Income</td>\n",
       "      <td>2016-02</td>\n",
       "    </tr>\n",
       "    <tr>\n",
       "      <th>93</th>\n",
       "      <td>ea589a947c4c128a6c6b81fb35605d40</td>\n",
       "      <td>2016-02-01</td>\n",
       "      <td>DT</td>\n",
       "      <td>0</td>\n",
       "      <td>5</td>\n",
       "      <td>training</td>\n",
       "      <td>training</td>\n",
       "      <td>Unkown</td>\n",
       "      <td>Income</td>\n",
       "      <td>2016-02</td>\n",
       "    </tr>\n",
       "    <tr>\n",
       "      <th>102</th>\n",
       "      <td>dc879d41982dfa14abb14d96818eadd2</td>\n",
       "      <td>2016-02-01</td>\n",
       "      <td>DT</td>\n",
       "      <td>0</td>\n",
       "      <td>19</td>\n",
       "      <td>training</td>\n",
       "      <td>training</td>\n",
       "      <td>Unkown</td>\n",
       "      <td>Income</td>\n",
       "      <td>2016-02</td>\n",
       "    </tr>\n",
       "    <tr>\n",
       "      <th>...</th>\n",
       "      <td>...</td>\n",
       "      <td>...</td>\n",
       "      <td>...</td>\n",
       "      <td>...</td>\n",
       "      <td>...</td>\n",
       "      <td>...</td>\n",
       "      <td>...</td>\n",
       "      <td>...</td>\n",
       "      <td>...</td>\n",
       "      <td>...</td>\n",
       "    </tr>\n",
       "    <tr>\n",
       "      <th>408296</th>\n",
       "      <td>dd99d81a087d354cc6131ec386800d22</td>\n",
       "      <td>2016-07-31</td>\n",
       "      <td>DT</td>\n",
       "      <td>0</td>\n",
       "      <td>19</td>\n",
       "      <td>training</td>\n",
       "      <td>training</td>\n",
       "      <td>Unkown</td>\n",
       "      <td>Income</td>\n",
       "      <td>2016-07</td>\n",
       "    </tr>\n",
       "    <tr>\n",
       "      <th>408300</th>\n",
       "      <td>b6caa44ddab07f100ad5fc4927fd563e</td>\n",
       "      <td>2016-07-31</td>\n",
       "      <td>PT</td>\n",
       "      <td>1.0</td>\n",
       "      <td>19</td>\n",
       "      <td>training</td>\n",
       "      <td>training</td>\n",
       "      <td>ATM</td>\n",
       "      <td>Expense</td>\n",
       "      <td>2016-07</td>\n",
       "    </tr>\n",
       "    <tr>\n",
       "      <th>408307</th>\n",
       "      <td>c00d31436e6a8aabc179b8f138a3ffd4</td>\n",
       "      <td>2016-07-31</td>\n",
       "      <td>PT</td>\n",
       "      <td>1.0</td>\n",
       "      <td>194</td>\n",
       "      <td>training</td>\n",
       "      <td>training</td>\n",
       "      <td>ATM</td>\n",
       "      <td>Expense</td>\n",
       "      <td>2016-07</td>\n",
       "    </tr>\n",
       "    <tr>\n",
       "      <th>408493</th>\n",
       "      <td>3967d1c646a5c68aa3e64294cd77b263</td>\n",
       "      <td>2016-07-31</td>\n",
       "      <td>DT</td>\n",
       "      <td>0</td>\n",
       "      <td>5</td>\n",
       "      <td>training</td>\n",
       "      <td>training</td>\n",
       "      <td>Unkown</td>\n",
       "      <td>Income</td>\n",
       "      <td>2016-07</td>\n",
       "    </tr>\n",
       "    <tr>\n",
       "      <th>408544</th>\n",
       "      <td>918eb93c2d3b084614e3570886715f84</td>\n",
       "      <td>2016-07-31</td>\n",
       "      <td>DT</td>\n",
       "      <td>0</td>\n",
       "      <td>19</td>\n",
       "      <td>training</td>\n",
       "      <td>training</td>\n",
       "      <td>Unkown</td>\n",
       "      <td>Income</td>\n",
       "      <td>2016-07</td>\n",
       "    </tr>\n",
       "  </tbody>\n",
       "</table>\n",
       "<p>10225 rows × 10 columns</p>\n",
       "</div>"
      ],
      "text/plain": [
       "                                 user_id transaction_date transaction_type  \\\n",
       "52      d676b47c24ee99835d24e38953cf7ab6       2016-02-01               DT   \n",
       "70      ce8150cf1461297516d4f65d8258a36b       2016-02-01               DT   \n",
       "84      ce8150cf1461297516d4f65d8258a36b       2016-02-01               DT   \n",
       "93      ea589a947c4c128a6c6b81fb35605d40       2016-02-01               DT   \n",
       "102     dc879d41982dfa14abb14d96818eadd2       2016-02-01               DT   \n",
       "...                                  ...              ...              ...   \n",
       "408296  dd99d81a087d354cc6131ec386800d22       2016-07-31               DT   \n",
       "408300  b6caa44ddab07f100ad5fc4927fd563e       2016-07-31               PT   \n",
       "408307  c00d31436e6a8aabc179b8f138a3ffd4       2016-07-31               PT   \n",
       "408493  3967d1c646a5c68aa3e64294cd77b263       2016-07-31               DT   \n",
       "408544  918eb93c2d3b084614e3570886715f84       2016-07-31               DT   \n",
       "\n",
       "       mcc_group  amount_n26_currency dataset_transaction dataset_user  \\\n",
       "52             0                   15            training     training   \n",
       "70             0                    5            training     training   \n",
       "84             0                    5            training     training   \n",
       "93             0                    5            training     training   \n",
       "102            0                   19            training     training   \n",
       "...          ...                  ...                 ...          ...   \n",
       "408296         0                   19            training     training   \n",
       "408300       1.0                   19            training     training   \n",
       "408307       1.0                  194            training     training   \n",
       "408493         0                    5            training     training   \n",
       "408544         0                   19            training     training   \n",
       "\n",
       "       mcc_group_category transaction_flow    month  \n",
       "52                 Unkown           Income  2016-02  \n",
       "70                 Unkown           Income  2016-02  \n",
       "84                 Unkown           Income  2016-02  \n",
       "93                 Unkown           Income  2016-02  \n",
       "102                Unkown           Income  2016-02  \n",
       "...                   ...              ...      ...  \n",
       "408296             Unkown           Income  2016-07  \n",
       "408300                ATM          Expense  2016-07  \n",
       "408307                ATM          Expense  2016-07  \n",
       "408493             Unkown           Income  2016-07  \n",
       "408544             Unkown           Income  2016-07  \n",
       "\n",
       "[10225 rows x 10 columns]"
      ]
     },
     "execution_count": 122,
     "metadata": {},
     "output_type": "execute_result"
    }
   ],
   "source": [
    "duplicates = df.duplicated()\n",
    "duplicates.sum()\n",
    "df[duplicates]"
   ]
  },
  {
   "cell_type": "code",
   "execution_count": 123,
   "metadata": {},
   "outputs": [
    {
     "data": {
      "text/html": [
       "<div>\n",
       "<style scoped>\n",
       "    .dataframe tbody tr th:only-of-type {\n",
       "        vertical-align: middle;\n",
       "    }\n",
       "\n",
       "    .dataframe tbody tr th {\n",
       "        vertical-align: top;\n",
       "    }\n",
       "\n",
       "    .dataframe thead th {\n",
       "        text-align: right;\n",
       "    }\n",
       "</style>\n",
       "<table border=\"1\" class=\"dataframe\">\n",
       "  <thead>\n",
       "    <tr style=\"text-align: right;\">\n",
       "      <th></th>\n",
       "      <th>user_id</th>\n",
       "      <th>transaction_date</th>\n",
       "      <th>transaction_type</th>\n",
       "      <th>mcc_group</th>\n",
       "      <th>amount_n26_currency</th>\n",
       "      <th>dataset_transaction</th>\n",
       "      <th>dataset_user</th>\n",
       "      <th>mcc_group_category</th>\n",
       "      <th>transaction_flow</th>\n",
       "      <th>month</th>\n",
       "    </tr>\n",
       "  </thead>\n",
       "  <tbody>\n",
       "    <tr>\n",
       "      <th>35</th>\n",
       "      <td>a9387a3ce70dd592d5c484a3a0c11eda</td>\n",
       "      <td>2016-02-01</td>\n",
       "      <td>DT</td>\n",
       "      <td>0</td>\n",
       "      <td>252</td>\n",
       "      <td>training</td>\n",
       "      <td>training</td>\n",
       "      <td>Unkown</td>\n",
       "      <td>Income</td>\n",
       "      <td>2016-02</td>\n",
       "    </tr>\n",
       "    <tr>\n",
       "      <th>39</th>\n",
       "      <td>a05175ee32dcfe62a09d63b1f5eb2023</td>\n",
       "      <td>2016-02-01</td>\n",
       "      <td>DT</td>\n",
       "      <td>0</td>\n",
       "      <td>5</td>\n",
       "      <td>training</td>\n",
       "      <td>training</td>\n",
       "      <td>Unkown</td>\n",
       "      <td>Income</td>\n",
       "      <td>2016-02</td>\n",
       "    </tr>\n",
       "    <tr>\n",
       "      <th>43</th>\n",
       "      <td>5f0c29acdcb1bddba271984d4a351445</td>\n",
       "      <td>2016-02-01</td>\n",
       "      <td>DT</td>\n",
       "      <td>0</td>\n",
       "      <td>9</td>\n",
       "      <td>training</td>\n",
       "      <td>training</td>\n",
       "      <td>Unkown</td>\n",
       "      <td>Income</td>\n",
       "      <td>2016-02</td>\n",
       "    </tr>\n",
       "    <tr>\n",
       "      <th>45</th>\n",
       "      <td>3e003b26ef36142f0a871e21906b5132</td>\n",
       "      <td>2016-02-01</td>\n",
       "      <td>DT</td>\n",
       "      <td>0</td>\n",
       "      <td>194</td>\n",
       "      <td>training</td>\n",
       "      <td>training</td>\n",
       "      <td>Unkown</td>\n",
       "      <td>Income</td>\n",
       "      <td>2016-02</td>\n",
       "    </tr>\n",
       "    <tr>\n",
       "      <th>46</th>\n",
       "      <td>132e4663b9d5e1b28e02b35717ce18ce</td>\n",
       "      <td>2016-02-01</td>\n",
       "      <td>DT</td>\n",
       "      <td>0</td>\n",
       "      <td>9</td>\n",
       "      <td>training</td>\n",
       "      <td>training</td>\n",
       "      <td>Unkown</td>\n",
       "      <td>Income</td>\n",
       "      <td>2016-02</td>\n",
       "    </tr>\n",
       "    <tr>\n",
       "      <th>...</th>\n",
       "      <td>...</td>\n",
       "      <td>...</td>\n",
       "      <td>...</td>\n",
       "      <td>...</td>\n",
       "      <td>...</td>\n",
       "      <td>...</td>\n",
       "      <td>...</td>\n",
       "      <td>...</td>\n",
       "      <td>...</td>\n",
       "      <td>...</td>\n",
       "    </tr>\n",
       "    <tr>\n",
       "      <th>408535</th>\n",
       "      <td>0d6310928306ad1ba6fde16cb22a4413</td>\n",
       "      <td>2016-07-31</td>\n",
       "      <td>DT</td>\n",
       "      <td>0</td>\n",
       "      <td>350</td>\n",
       "      <td>training</td>\n",
       "      <td>training</td>\n",
       "      <td>Unkown</td>\n",
       "      <td>Income</td>\n",
       "      <td>2016-07</td>\n",
       "    </tr>\n",
       "    <tr>\n",
       "      <th>408540</th>\n",
       "      <td>e4fddf172356949b1bf434e32bd5b51d</td>\n",
       "      <td>2016-07-31</td>\n",
       "      <td>DT</td>\n",
       "      <td>0</td>\n",
       "      <td>5</td>\n",
       "      <td>training</td>\n",
       "      <td>training</td>\n",
       "      <td>Unkown</td>\n",
       "      <td>Income</td>\n",
       "      <td>2016-07</td>\n",
       "    </tr>\n",
       "    <tr>\n",
       "      <th>408541</th>\n",
       "      <td>bc639c7495889105713fc6b1025264ac</td>\n",
       "      <td>2016-07-31</td>\n",
       "      <td>DT</td>\n",
       "      <td>0</td>\n",
       "      <td>5</td>\n",
       "      <td>training</td>\n",
       "      <td>training</td>\n",
       "      <td>Unkown</td>\n",
       "      <td>Income</td>\n",
       "      <td>2016-07</td>\n",
       "    </tr>\n",
       "    <tr>\n",
       "      <th>408542</th>\n",
       "      <td>0dfb685e3d705957ef9e0c472604b067</td>\n",
       "      <td>2016-07-31</td>\n",
       "      <td>DT</td>\n",
       "      <td>0</td>\n",
       "      <td>155</td>\n",
       "      <td>training</td>\n",
       "      <td>training</td>\n",
       "      <td>Unkown</td>\n",
       "      <td>Income</td>\n",
       "      <td>2016-07</td>\n",
       "    </tr>\n",
       "    <tr>\n",
       "      <th>408544</th>\n",
       "      <td>918eb93c2d3b084614e3570886715f84</td>\n",
       "      <td>2016-07-31</td>\n",
       "      <td>DT</td>\n",
       "      <td>0</td>\n",
       "      <td>19</td>\n",
       "      <td>training</td>\n",
       "      <td>training</td>\n",
       "      <td>Unkown</td>\n",
       "      <td>Income</td>\n",
       "      <td>2016-07</td>\n",
       "    </tr>\n",
       "  </tbody>\n",
       "</table>\n",
       "<p>130315 rows × 10 columns</p>\n",
       "</div>"
      ],
      "text/plain": [
       "                                 user_id transaction_date transaction_type  \\\n",
       "35      a9387a3ce70dd592d5c484a3a0c11eda       2016-02-01               DT   \n",
       "39      a05175ee32dcfe62a09d63b1f5eb2023       2016-02-01               DT   \n",
       "43      5f0c29acdcb1bddba271984d4a351445       2016-02-01               DT   \n",
       "45      3e003b26ef36142f0a871e21906b5132       2016-02-01               DT   \n",
       "46      132e4663b9d5e1b28e02b35717ce18ce       2016-02-01               DT   \n",
       "...                                  ...              ...              ...   \n",
       "408535  0d6310928306ad1ba6fde16cb22a4413       2016-07-31               DT   \n",
       "408540  e4fddf172356949b1bf434e32bd5b51d       2016-07-31               DT   \n",
       "408541  bc639c7495889105713fc6b1025264ac       2016-07-31               DT   \n",
       "408542  0dfb685e3d705957ef9e0c472604b067       2016-07-31               DT   \n",
       "408544  918eb93c2d3b084614e3570886715f84       2016-07-31               DT   \n",
       "\n",
       "       mcc_group  amount_n26_currency dataset_transaction dataset_user  \\\n",
       "35             0                  252            training     training   \n",
       "39             0                    5            training     training   \n",
       "43             0                    9            training     training   \n",
       "45             0                  194            training     training   \n",
       "46             0                    9            training     training   \n",
       "...          ...                  ...                 ...          ...   \n",
       "408535         0                  350            training     training   \n",
       "408540         0                    5            training     training   \n",
       "408541         0                    5            training     training   \n",
       "408542         0                  155            training     training   \n",
       "408544         0                   19            training     training   \n",
       "\n",
       "       mcc_group_category transaction_flow    month  \n",
       "35                 Unkown           Income  2016-02  \n",
       "39                 Unkown           Income  2016-02  \n",
       "43                 Unkown           Income  2016-02  \n",
       "45                 Unkown           Income  2016-02  \n",
       "46                 Unkown           Income  2016-02  \n",
       "...                   ...              ...      ...  \n",
       "408535             Unkown           Income  2016-07  \n",
       "408540             Unkown           Income  2016-07  \n",
       "408541             Unkown           Income  2016-07  \n",
       "408542             Unkown           Income  2016-07  \n",
       "408544             Unkown           Income  2016-07  \n",
       "\n",
       "[130315 rows x 10 columns]"
      ]
     },
     "execution_count": 123,
     "metadata": {},
     "output_type": "execute_result"
    }
   ],
   "source": [
    "duplicates1 = df.duplicated(subset=['user_id', 'transaction_date'])\n",
    "df[duplicates1]"
   ]
  },
  {
   "cell_type": "code",
   "execution_count": 124,
   "metadata": {},
   "outputs": [
    {
     "name": "stdout",
     "output_type": "stream",
     "text": [
      "<class 'pandas.core.frame.DataFrame'>\n",
      "Index: 398321 entries, 0 to 408545\n",
      "Data columns (total 10 columns):\n",
      " #   Column               Non-Null Count   Dtype         \n",
      "---  ------               --------------   -----         \n",
      " 0   user_id              398321 non-null  object        \n",
      " 1   transaction_date     398321 non-null  datetime64[ns]\n",
      " 2   transaction_type     398321 non-null  object        \n",
      " 3   mcc_group            398321 non-null  object        \n",
      " 4   amount_n26_currency  398321 non-null  int64         \n",
      " 5   dataset_transaction  398321 non-null  object        \n",
      " 6   dataset_user         398321 non-null  object        \n",
      " 7   mcc_group_category   398321 non-null  object        \n",
      " 8   transaction_flow     398321 non-null  object        \n",
      " 9   month                398321 non-null  period[M]     \n",
      "dtypes: datetime64[ns](1), int64(1), object(7), period[M](1)\n",
      "memory usage: 33.4+ MB\n",
      "user_id                0\n",
      "transaction_date       0\n",
      "transaction_type       0\n",
      "mcc_group              0\n",
      "amount_n26_currency    0\n",
      "dataset_transaction    0\n",
      "dataset_user           0\n",
      "mcc_group_category     0\n",
      "transaction_flow       0\n",
      "month                  0\n",
      "dtype: int64\n"
     ]
    }
   ],
   "source": [
    "df_cleaned = df.drop_duplicates()\n",
    "df_cleaned.info()\n",
    "print(df_cleaned.isna().sum())\n"
   ]
  },
  {
   "cell_type": "markdown",
   "metadata": {},
   "source": [
    "### Handling Cat var"
   ]
  },
  {
   "cell_type": "markdown",
   "metadata": {},
   "source": [
    "## Time Series Analysis"
   ]
  },
  {
   "cell_type": "markdown",
   "metadata": {},
   "source": [
    "### ARIMA model"
   ]
  },
  {
   "cell_type": "code",
   "execution_count": 136,
   "metadata": {},
   "outputs": [
    {
     "name": "stdout",
     "output_type": "stream",
     "text": [
      "ADF Statistic for Income: -10.580800596276857\n",
      "p-value for Income: 6.913888327399286e-19\n",
      "ADF Statistic for Expenses: -5.1900138362031365\n",
      "p-value for Expenses: 9.214335401232046e-06\n"
     ]
    }
   ],
   "source": [
    "## check for stationarity\n",
    "\n",
    "# ADF test for stationarity (Income)\n",
    "result = adfuller(monthly_totals['Income'])\n",
    "print('ADF Statistic for Income:', result[0])\n",
    "print('p-value for Income:', result[1])\n",
    "\n",
    "# ADF test for stationarity (Expenses)\n",
    "result = adfuller(monthly_totals['Expense'])\n",
    "print('ADF Statistic for Expenses:', result[0])\n",
    "print('p-value for Expenses:', result[1])"
   ]
  },
  {
   "cell_type": "code",
   "execution_count": 141,
   "metadata": {},
   "outputs": [],
   "source": [
    "# Difference the series to make it stationary if needed\n",
    "diff_income = monthly_totals['Income'].diff().dropna()\n",
    "diff_expense = monthly_totals['Expense'].diff().dropna()"
   ]
  },
  {
   "cell_type": "code",
   "execution_count": 145,
   "metadata": {},
   "outputs": [
    {
     "data": {
      "text/plain": [
       "month\n",
       "2016-03    248550.0\n",
       "2016-04     39241.0\n",
       "2016-05     -2222.0\n",
       "2016-06     19091.0\n",
       "2016-07     28997.0\n",
       "Freq: M, Name: Income, dtype: float64"
      ]
     },
     "execution_count": 145,
     "metadata": {},
     "output_type": "execute_result"
    }
   ],
   "source": [
    "diff_income "
   ]
  },
  {
   "cell_type": "code",
   "execution_count": 144,
   "metadata": {},
   "outputs": [
    {
     "data": {
      "text/plain": [
       "month\n",
       "2016-03    210624.0\n",
       "2016-04     10974.0\n",
       "2016-05     89472.0\n",
       "2016-06    -23522.0\n",
       "2016-07     65779.0\n",
       "Freq: M, Name: Expense, dtype: float64"
      ]
     },
     "execution_count": 144,
     "metadata": {},
     "output_type": "execute_result"
    }
   ],
   "source": [
    "diff_expense"
   ]
  },
  {
   "cell_type": "code",
   "execution_count": 146,
   "metadata": {},
   "outputs": [
    {
     "data": {
      "image/png": "[encoded data removed]",
      "text/plain": [
       "<Figure size 1000x600 with 1 Axes>"
      ]
     },
     "metadata": {},
     "output_type": "display_data"
    }
   ],
   "source": [
    "# Ensure the index is in datetime format (converting PeriodIndex to DatetimeIndex)\n",
    "diff_income.index = diff_income.index.to_timestamp()\n",
    "diff_expense.index = diff_expense.index.to_timestamp()\n",
    "\n",
    "plt.figure(figsize=(10, 6))\n",
    "\n",
    "# Plot differenced Income\n",
    "plt.plot(diff_income, label='Differenced Income', marker='o')\n",
    "\n",
    "# Plot differenced Expenses\n",
    "plt.plot(diff_expense, label='Differenced Expenses', marker='o')\n",
    "\n",
    "# Add titles and labels\n",
    "plt.title('Differenced Income and Expenses')\n",
    "plt.xlabel('Month')\n",
    "plt.ylabel('Differenced Values')\n",
    "plt.xticks(rotation=45)\n",
    "plt.legend()\n",
    "\n",
    "# Show the plot\n",
    "plt.tight_layout()\n",
    "plt.show()\n"
   ]
  },
  {
   "cell_type": "code",
   "execution_count": 147,
   "metadata": {},
   "outputs": [
    {
     "name": "stdout",
     "output_type": "stream",
     "text": [
      "ADF Statistic (Differenced Income): -10.538508607094995\n",
      "p-value (Differenced Income): 8.773120442455608e-19\n",
      "ADF Statistic (Differenced Expense): -5.075233532355859\n",
      "p-value (Differenced Expense): 1.571885942939979e-05\n"
     ]
    }
   ],
   "source": [
    "# ADF test for differenced Income\n",
    "result_diff_income = adfuller(diff_income)\n",
    "print('ADF Statistic (Differenced Income):', result_diff_income[0])\n",
    "print('p-value (Differenced Income):', result_diff_income[1])\n",
    "\n",
    "# ADF test for differenced Expenses\n",
    "result_diff_expense = adfuller(diff_expense)\n",
    "print('ADF Statistic (Differenced Expense):', result_diff_expense[0])\n",
    "print('p-value (Differenced Expense):', result_diff_expense[1])"
   ]
  },
  {
   "cell_type": "code",
   "execution_count": 133,
   "metadata": {},
   "outputs": [
    {
     "name": "stdout",
     "output_type": "stream",
     "text": [
      "Income Forecast: 2016-08    2.365555e+06\n",
      "Freq: M, dtype: float64\n",
      "Expense Forecast: 2016-08    1.373200e+06\n",
      "Freq: M, dtype: float64\n"
     ]
    },
    {
     "name": "stderr",
     "output_type": "stream",
     "text": [
      "/Users/adrianacuppuleri/Library/Mobile Documents/com~apple~CloudDocs/GITHUB ADRIANA/Financial-Behavior-Prediction/.conda/lib/python3.12/site-packages/statsmodels/tsa/statespace/sarimax.py:966: UserWarning: Non-stationary starting autoregressive parameters found. Using zeros as starting parameters.\n",
      "  warn('Non-stationary starting autoregressive parameters'\n",
      "/Users/adrianacuppuleri/Library/Mobile Documents/com~apple~CloudDocs/GITHUB ADRIANA/Financial-Behavior-Prediction/.conda/lib/python3.12/site-packages/statsmodels/tsa/statespace/sarimax.py:978: UserWarning: Non-invertible starting MA parameters found. Using zeros as starting parameters.\n",
      "  warn('Non-invertible starting MA parameters found.'\n",
      "/Users/adrianacuppuleri/Library/Mobile Documents/com~apple~CloudDocs/GITHUB ADRIANA/Financial-Behavior-Prediction/.conda/lib/python3.12/site-packages/statsmodels/tsa/statespace/sarimax.py:966: UserWarning: Non-stationary starting autoregressive parameters found. Using zeros as starting parameters.\n",
      "  warn('Non-stationary starting autoregressive parameters'\n",
      "/Users/adrianacuppuleri/Library/Mobile Documents/com~apple~CloudDocs/GITHUB ADRIANA/Financial-Behavior-Prediction/.conda/lib/python3.12/site-packages/statsmodels/tsa/statespace/sarimax.py:978: UserWarning: Non-invertible starting MA parameters found. Using zeros as starting parameters.\n",
      "  warn('Non-invertible starting MA parameters found.'\n",
      "/Users/adrianacuppuleri/Library/Mobile Documents/com~apple~CloudDocs/GITHUB ADRIANA/Financial-Behavior-Prediction/.conda/lib/python3.12/site-packages/statsmodels/base/model.py:607: ConvergenceWarning: Maximum Likelihood optimization failed to converge. Check mle_retvals\n",
      "  warnings.warn(\"Maximum Likelihood optimization failed to \"\n"
     ]
    }
   ],
   "source": [
    "# Fit ARIMA model for Income\n",
    "model_income = ARIMA(monthly_totals['Income'], order=(1, 1, 1))\n",
    "model_income_fit = model_income.fit()\n",
    "\n",
    "# Fit ARIMA model for Expenses\n",
    "model_expense = ARIMA(monthly_totals['Expense'], order=(1, 1, 1))\n",
    "model_expense_fit = model_expense.fit()\n",
    "\n",
    "# Make predictions for the next 6 months\n",
    "forecast_income = model_income_fit.forecast(steps=1)\n",
    "forecast_expense = model_expense_fit.forecast(steps=1)\n",
    "\n",
    "print(\"Income Forecast:\", forecast_income)\n",
    "print(\"Expense Forecast:\", forecast_expense)"
   ]
  },
  {
   "cell_type": "code",
   "execution_count": 134,
   "metadata": {},
   "outputs": [
    {
     "name": "stderr",
     "output_type": "stream",
     "text": [
      "/var/folders/mm/gw92vpys6rggjz_4z42s244w0000gn/T/ipykernel_50643/871320409.py:9: FutureWarning: 'M' is deprecated and will be removed in a future version, please use 'ME' instead.\n",
      "  future_date = pd.date_range(monthly_totals.index[-1].start_time, periods=1, freq='M').strftime('%Y-%m')\n"
     ]
    },
    {
     "data": {
      "image/png": "[encoded data removed]",
      "text/plain": [
       "<Figure size 1000x600 with 1 Axes>"
      ]
     },
     "metadata": {},
     "output_type": "display_data"
    }
   ],
   "source": [
    "# Plot the historical data and the forecasts\n",
    "plt.figure(figsize=(10, 6))\n",
    "\n",
    "# Historical Income and Expenses\n",
    "plt.plot(monthly_totals.index.astype(str), monthly_totals['Income'], label='Income (Historical)', marker='o')\n",
    "plt.plot(monthly_totals.index.astype(str), monthly_totals['Expense'], label='Expenses (Historical)', marker='o')\n",
    "\n",
    "# Forecasted Income and Expenses for August 2016\n",
    "future_date = pd.date_range(monthly_totals.index[-1].start_time, periods=1, freq='M').strftime('%Y-%m')\n",
    "plt.plot(future_date, forecast_income, label='Income Forecast (August 2016)', linestyle='--')\n",
    "plt.plot(future_date, forecast_expense, label='Expense Forecast (August 2016)', linestyle='--')\n",
    "\n",
    "# Add labels and legend\n",
    "plt.title('Income and Expense Forecast for August 2016 (ARIMA)')\n",
    "plt.xlabel('Month')\n",
    "plt.ylabel('Total Amount')\n",
    "plt.xticks(rotation=45)\n",
    "plt.legend()\n",
    "\n",
    "# Show the plot\n",
    "plt.tight_layout()\n",
    "plt.show()"
   ]
  },
  {
   "cell_type": "markdown",
   "metadata": {},
   "source": [
    "### ETS"
   ]
  },
  {
   "cell_type": "code",
   "execution_count": 148,
   "metadata": {},
   "outputs": [
    {
     "name": "stdout",
     "output_type": "stream",
     "text": [
      "Income Forecast (August 2016 - ETS): 2016-08    2.374934e+06\n",
      "Freq: M, dtype: float64\n",
      "Expense Forecast (August 2016 - ETS): 2016-08    1.463713e+06\n",
      "Freq: M, dtype: float64\n"
     ]
    },
    {
     "name": "stderr",
     "output_type": "stream",
     "text": [
      "/Users/adrianacuppuleri/Library/Mobile Documents/com~apple~CloudDocs/GITHUB ADRIANA/Financial-Behavior-Prediction/.conda/lib/python3.12/site-packages/statsmodels/tsa/holtwinters/model.py:918: ConvergenceWarning: Optimization failed to converge. Check mle_retvals.\n",
      "  warnings.warn(\n",
      "/Users/adrianacuppuleri/Library/Mobile Documents/com~apple~CloudDocs/GITHUB ADRIANA/Financial-Behavior-Prediction/.conda/lib/python3.12/site-packages/statsmodels/tsa/holtwinters/model.py:918: ConvergenceWarning: Optimization failed to converge. Check mle_retvals.\n",
      "  warnings.warn(\n"
     ]
    }
   ],
   "source": [
    "# Fit ETS model for Income (with trend)\n",
    "model_income_ets = ExponentialSmoothing(monthly_totals['Income'], trend='add', seasonal=None).fit()\n",
    "\n",
    "# Fit ETS model for Expenses (with trend)\n",
    "model_expense_ets = ExponentialSmoothing(monthly_totals['Expense'], trend='add', seasonal=None).fit()\n",
    "\n",
    "# Forecast for August 2016 (one step ahead)\n",
    "forecast_income_ets = model_income_ets.forecast(steps=1)\n",
    "forecast_expense_ets = model_expense_ets.forecast(steps=1)\n",
    "\n",
    "# Print forecasted values for August 2016\n",
    "print(\"Income Forecast (August 2016 - ETS):\", forecast_income_ets)\n",
    "print(\"Expense Forecast (August 2016 - ETS):\", forecast_expense_ets)"
   ]
  },
  {
   "cell_type": "code",
   "execution_count": null,
   "metadata": {},
   "outputs": [],
   "source": []
  }
 ],
 "metadata": {
  "kernelspec": {
   "display_name": "Python 3",
   "language": "python",
   "name": "python3"
  },
  "language_info": {
   "codemirror_mode": {
    "name": "ipython",
    "version": 3
   },
   "file_extension": ".py",
   "mimetype": "text/x-python",
   "name": "python",
   "nbconvert_exporter": "python",
   "pygments_lexer": "ipython3",
   "version": "3.12.7"
  }
 },
 "nbformat": 4,
 "nbformat_minor": 2
}
