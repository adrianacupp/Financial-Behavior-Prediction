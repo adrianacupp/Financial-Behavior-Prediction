{
 "cells": [
  {
   "cell_type": "markdown",
   "metadata": {},
   "source": [
    "# Income Expenses Prediction"
   ]
  },
  {
   "cell_type": "markdown",
   "metadata": {},
   "source": [
    "## Import Libraries and Load Data"
   ]
  },
  {
   "cell_type": "code",
   "execution_count": 71,
   "metadata": {},
   "outputs": [],
   "source": [
    "import pandas as pd\n",
    "import matplotlib.pyplot as plt\n",
    "import matplotlib.ticker as mticker\n",
    "import seaborn as sns\n",
    "from statsmodels.tsa.stattools import adfuller\n",
    "#from pmdarima import auto_arima\n",
    "from statsmodels.tsa.arima.model import ARIMA\n",
    "from statsmodels.tsa.holtwinters import ExponentialSmoothing"
   ]
  },
  {
   "cell_type": "code",
   "execution_count": 72,
   "metadata": {},
   "outputs": [],
   "source": [
    "df = pd.read_csv('/Users/adrianacuppuleri/Library/Mobile Documents/com~apple~CloudDocs/GITHUB ADRIANA/Financial-Behavior-Prediction/data/2016-09-19_79351_training.csv')"
   ]
  },
  {
   "cell_type": "code",
   "execution_count": 73,
   "metadata": {},
   "outputs": [
    {
     "data": {
      "text/html": [
       "<div>\n",
       "<style scoped>\n",
       "    .dataframe tbody tr th:only-of-type {\n",
       "        vertical-align: middle;\n",
       "    }\n",
       "\n",
       "    .dataframe tbody tr th {\n",
       "        vertical-align: top;\n",
       "    }\n",
       "\n",
       "    .dataframe thead th {\n",
       "        text-align: right;\n",
       "    }\n",
       "</style>\n",
       "<table border=\"1\" class=\"dataframe\">\n",
       "  <thead>\n",
       "    <tr style=\"text-align: right;\">\n",
       "      <th></th>\n",
       "      <th>user_id</th>\n",
       "      <th>transaction_date</th>\n",
       "      <th>transaction_type</th>\n",
       "      <th>mcc_group</th>\n",
       "      <th>amount_n26_currency</th>\n",
       "      <th>dataset_transaction</th>\n",
       "      <th>dataset_user</th>\n",
       "    </tr>\n",
       "  </thead>\n",
       "  <tbody>\n",
       "    <tr>\n",
       "      <th>0</th>\n",
       "      <td>a78884f5e76951188c1e719d4956773a</td>\n",
       "      <td>2016-02-01</td>\n",
       "      <td>DT</td>\n",
       "      <td>NaN</td>\n",
       "      <td>350</td>\n",
       "      <td>training</td>\n",
       "      <td>training</td>\n",
       "    </tr>\n",
       "    <tr>\n",
       "      <th>1</th>\n",
       "      <td>b0333294fef6ff1299102a70ad46b126</td>\n",
       "      <td>2016-02-01</td>\n",
       "      <td>DT</td>\n",
       "      <td>NaN</td>\n",
       "      <td>202</td>\n",
       "      <td>training</td>\n",
       "      <td>training</td>\n",
       "    </tr>\n",
       "    <tr>\n",
       "      <th>2</th>\n",
       "      <td>7b8d2a2780adae0cd0c248e92c1b28dc</td>\n",
       "      <td>2016-02-01</td>\n",
       "      <td>DT</td>\n",
       "      <td>NaN</td>\n",
       "      <td>291</td>\n",
       "      <td>training</td>\n",
       "      <td>training</td>\n",
       "    </tr>\n",
       "    <tr>\n",
       "      <th>3</th>\n",
       "      <td>cc4abaa500f7db4390ae3f02bd36d805</td>\n",
       "      <td>2016-02-01</td>\n",
       "      <td>DT</td>\n",
       "      <td>NaN</td>\n",
       "      <td>214</td>\n",
       "      <td>training</td>\n",
       "      <td>training</td>\n",
       "    </tr>\n",
       "    <tr>\n",
       "      <th>4</th>\n",
       "      <td>49b99d1d5ba028566639e8b3eb7c055b</td>\n",
       "      <td>2016-02-01</td>\n",
       "      <td>DT</td>\n",
       "      <td>NaN</td>\n",
       "      <td>272</td>\n",
       "      <td>training</td>\n",
       "      <td>training</td>\n",
       "    </tr>\n",
       "  </tbody>\n",
       "</table>\n",
       "</div>"
      ],
      "text/plain": [
       "                            user_id transaction_date transaction_type  \\\n",
       "0  a78884f5e76951188c1e719d4956773a       2016-02-01               DT   \n",
       "1  b0333294fef6ff1299102a70ad46b126       2016-02-01               DT   \n",
       "2  7b8d2a2780adae0cd0c248e92c1b28dc       2016-02-01               DT   \n",
       "3  cc4abaa500f7db4390ae3f02bd36d805       2016-02-01               DT   \n",
       "4  49b99d1d5ba028566639e8b3eb7c055b       2016-02-01               DT   \n",
       "\n",
       "   mcc_group  amount_n26_currency dataset_transaction dataset_user  \n",
       "0        NaN                  350            training     training  \n",
       "1        NaN                  202            training     training  \n",
       "2        NaN                  291            training     training  \n",
       "3        NaN                  214            training     training  \n",
       "4        NaN                  272            training     training  "
      ]
     },
     "execution_count": 73,
     "metadata": {},
     "output_type": "execute_result"
    }
   ],
   "source": [
    "df.head()"
   ]
  },
  {
   "cell_type": "code",
   "execution_count": 74,
   "metadata": {},
   "outputs": [
    {
     "name": "stdout",
     "output_type": "stream",
     "text": [
      "<class 'pandas.core.frame.DataFrame'>\n",
      "RangeIndex: 408546 entries, 0 to 408545\n",
      "Data columns (total 7 columns):\n",
      " #   Column               Non-Null Count   Dtype  \n",
      "---  ------               --------------   -----  \n",
      " 0   user_id              408546 non-null  object \n",
      " 1   transaction_date     408546 non-null  object \n",
      " 2   transaction_type     408546 non-null  object \n",
      " 3   mcc_group            258324 non-null  float64\n",
      " 4   amount_n26_currency  408546 non-null  int64  \n",
      " 5   dataset_transaction  408546 non-null  object \n",
      " 6   dataset_user         408546 non-null  object \n",
      "dtypes: float64(1), int64(1), object(5)\n",
      "memory usage: 21.8+ MB\n"
     ]
    }
   ],
   "source": [
    "df.info()"
   ]
  },
  {
   "cell_type": "code",
   "execution_count": 75,
   "metadata": {},
   "outputs": [],
   "source": [
    "# Convert 'transaction_date' to datetime\n",
    "df['transaction_date'] = pd.to_datetime(df['transaction_date'])"
   ]
  },
  {
   "cell_type": "code",
   "execution_count": 76,
   "metadata": {},
   "outputs": [
    {
     "data": {
      "text/plain": [
       "count    408546.000000\n",
       "mean         52.764164\n",
       "std         111.870681\n",
       "min           3.000000\n",
       "25%           7.000000\n",
       "50%          17.000000\n",
       "75%          38.000000\n",
       "max        1166.000000\n",
       "Name: amount_n26_currency, dtype: float64"
      ]
     },
     "execution_count": 76,
     "metadata": {},
     "output_type": "execute_result"
    }
   ],
   "source": [
    "df.amount_n26_currency.describe()"
   ]
  },
  {
   "cell_type": "markdown",
   "metadata": {},
   "source": [
    "## Data Exploration"
   ]
  },
  {
   "cell_type": "code",
   "execution_count": 77,
   "metadata": {},
   "outputs": [
    {
     "data": {
      "text/plain": [
       "transaction_type\n",
       "PT     258324\n",
       "CT      63837\n",
       "DT      40528\n",
       "DD      29869\n",
       "FT       6528\n",
       "DR       4727\n",
       "BBU      3561\n",
       "BUB       942\n",
       "TUB       230\n",
       "Name: count, dtype: int64"
      ]
     },
     "execution_count": 77,
     "metadata": {},
     "output_type": "execute_result"
    }
   ],
   "source": [
    "df['transaction_type'].value_counts()"
   ]
  },
  {
   "cell_type": "code",
   "execution_count": 78,
   "metadata": {},
   "outputs": [
    {
     "data": {
      "text/plain": [
       "mcc_group\n",
       "14.0        24\n",
       "13.0       141\n",
       "9.0        287\n",
       "15.0       329\n",
       "12.0       873\n",
       "5.0       3337\n",
       "11.0      5803\n",
       "10.0      7282\n",
       "7.0      10888\n",
       "16.0     11150\n",
       "17.0     11466\n",
       "4.0      20194\n",
       "8.0      20610\n",
       "3.0      20875\n",
       "6.0      24672\n",
       "2.0      50586\n",
       "1.0      69807\n",
       "NaN     150222\n",
       "Name: count, dtype: int64"
      ]
     },
     "execution_count": 78,
     "metadata": {},
     "output_type": "execute_result"
    }
   ],
   "source": [
    "df['mcc_group'].value_counts(dropna=False).sort_values()\n",
    "#the group with highest value counts is NaN"
   ]
  },
  {
   "cell_type": "code",
   "execution_count": 79,
   "metadata": {},
   "outputs": [],
   "source": [
    "#for clarity, I add a col with correspondent categories of mcc_group\n",
    "mcc_group_mapping = {\n",
    "    1: 'ATM',\n",
    "    2: 'Groceries',\n",
    "    3: 'Gastronomie',\n",
    "    4: 'Shopping/(Fashion)',\n",
    "    5: 'Home and DIY, House Energy',\n",
    "    6: 'Travel/Hotel',\n",
    "    7: 'Transport',\n",
    "    8: 'Automotive/Gas',\n",
    "    9: 'Family/Babies/Children',\n",
    "    10: 'Entertainment/Leisure',\n",
    "    11: 'Drugstore',\n",
    "    12: 'Finance',\n",
    "    13: 'Insurance',\n",
    "    14: 'Taxes and Fines',\n",
    "    15: 'Education',\n",
    "    16: 'Miscellaneous',\n",
    "    17: 'Business Expenses'\n",
    "}\n",
    "\n",
    "# Create a new column 'mcc_group_category' by mapping mcc_group to category name\n",
    "df['mcc_group_category'] = df['mcc_group'].map(mcc_group_mapping)\n",
    "\n",
    "# Fill in the NA values with 'NA' for missing mcc_group\n",
    "df.fillna({'mcc_group_category':'NA'}, inplace=True)"
   ]
  },
  {
   "cell_type": "code",
   "execution_count": 80,
   "metadata": {},
   "outputs": [
    {
     "data": {
      "text/plain": [
       "mcc_group  mcc_group_category        \n",
       "1.0        ATM                            69807\n",
       "2.0        Groceries                      50586\n",
       "3.0        Gastronomie                    20875\n",
       "4.0        Shopping/(Fashion)             20194\n",
       "5.0        Home and DIY, House Energy      3337\n",
       "6.0        Travel/Hotel                   24672\n",
       "7.0        Transport                      10888\n",
       "8.0        Automotive/Gas                 20610\n",
       "9.0        Family/Babies/Children           287\n",
       "10.0       Entertainment/Leisure           7282\n",
       "11.0       Drugstore                       5803\n",
       "12.0       Finance                          873\n",
       "13.0       Insurance                        141\n",
       "14.0       Taxes and Fines                   24\n",
       "15.0       Education                        329\n",
       "16.0       Miscellaneous                  11150\n",
       "17.0       Business Expenses              11466\n",
       "NaN        NA                            150222\n",
       "Name: count, dtype: int64"
      ]
     },
     "execution_count": 80,
     "metadata": {},
     "output_type": "execute_result"
    }
   ],
   "source": [
    "df[['mcc_group', 'mcc_group_category']].value_counts(dropna=False).sort_index()"
   ]
  },
  {
   "cell_type": "markdown",
   "metadata": {},
   "source": [
    "### Data Visualization"
   ]
  },
  {
   "cell_type": "code",
   "execution_count": 81,
   "metadata": {},
   "outputs": [
    {
     "data": {
      "image/png": "[encoded data removed]",
      "text/plain": [
       "<Figure size 1000x600 with 1 Axes>"
      ]
     },
     "metadata": {},
     "output_type": "display_data"
    }
   ],
   "source": [
    "# distribution of transaction amounts\n",
    "plt.figure(figsize=(10, 6))\n",
    "sns.histplot(df['amount_n26_currency'], bins=24, kde=True)\n",
    "\n",
    "plt.title('Distribution of Transaction Amounts')\n",
    "plt.xlabel('Transaction Amount')\n",
    "plt.ylabel('Frequency')\n",
    "plt.show()\n",
    "\n",
    "#The bulk of the transactions seem to be clustered in the range of 0 to around 50 units."
   ]
  },
  {
   "cell_type": "code",
   "execution_count": 82,
   "metadata": {},
   "outputs": [
    {
     "data": {
      "image/png": "[encoded data removed]",
      "text/plain": [
       "<Figure size 1000x600 with 1 Axes>"
      ]
     },
     "metadata": {},
     "output_type": "display_data"
    }
   ],
   "source": [
    "#the count of each transaction type\n",
    "plt.figure(figsize=(10, 6))\n",
    "sns.countplot(y='transaction_type', data=df)\n",
    "\n",
    "plt.title('Transaction Types Count')\n",
    "plt.xlabel('Count')\n",
    "plt.ylabel('Transaction Type')\n",
    "plt.show()\n",
    "\n",
    "#PT (Presentment) has the highest count"
   ]
  },
  {
   "cell_type": "code",
   "execution_count": 83,
   "metadata": {},
   "outputs": [
    {
     "data": {
      "image/png": "[encoded data removed]",
      "text/plain": [
       "<Figure size 1000x600 with 1 Axes>"
      ]
     },
     "metadata": {},
     "output_type": "display_data"
    }
   ],
   "source": [
    "#the count of transactions per MCC group\n",
    "plt.figure(figsize=(10, 6))\n",
    "sns.countplot(y='mcc_group_category', data=df)\n",
    "\n",
    "plt.title('MCC Group Count')\n",
    "plt.xlabel('Count')\n",
    "plt.ylabel('MCC Group')\n",
    "plt.show()"
   ]
  },
  {
   "cell_type": "code",
   "execution_count": 84,
   "metadata": {},
   "outputs": [
    {
     "data": {
      "text/plain": [
       "transaction_date\n",
       "2016-02    3118699\n",
       "2016-03    3577873\n",
       "2016-04    3628088\n",
       "2016-05    3715338\n",
       "2016-06    3710907\n",
       "2016-07    3805683\n",
       "Freq: M, Name: amount_n26_currency, dtype: int64"
      ]
     },
     "execution_count": 84,
     "metadata": {},
     "output_type": "execute_result"
    }
   ],
   "source": [
    "#time-series exploration\n",
    "# Group by month and sum the transaction amounts\n",
    "monthly_transactions = df.groupby(df['transaction_date'].dt.to_period('M'))['amount_n26_currency'].sum()\n",
    "monthly_transactions"
   ]
  },
  {
   "cell_type": "code",
   "execution_count": 89,
   "metadata": {},
   "outputs": [
    {
     "data": {
      "image/png": "[encoded data removed]",
      "text/plain": [
       "<Figure size 1000x600 with 1 Axes>"
      ]
     },
     "metadata": {},
     "output_type": "display_data"
    }
   ],
   "source": [
    "# Monthly aggregation by transaction amount\n",
    "df['month'] = df['transaction_date'].dt.to_period('M')\n",
    "monthly_agg = df.groupby('month')['amount_n26_currency'].sum().reset_index()\n",
    "monthly_agg['month'] = monthly_agg['month'].astype(str)\n",
    "\n",
    "# Line plot of monthly aggregated transaction amounts\n",
    "plt.figure(figsize=(10, 6))\n",
    "plt.plot(monthly_agg['month'], monthly_agg['amount_n26_currency'], marker='o')\n",
    "plt.title('Monthly Transaction Amounts Over Time')\n",
    "plt.xlabel('Month')\n",
    "plt.ylabel('Total Transaction Amount')\n",
    "plt.xticks(rotation=45)\n",
    "plt.show()"
   ]
  },
  {
   "cell_type": "code",
   "execution_count": 87,
   "metadata": {},
   "outputs": [
    {
     "data": {
      "image/png": "[encoded data removed]",
      "text/plain": [
       "<Figure size 1000x600 with 1 Axes>"
      ]
     },
     "metadata": {},
     "output_type": "display_data"
    }
   ],
   "source": [
    "# Aggregate transaction amount per user\n",
    "user_agg = df.groupby('user_id')['amount_n26_currency'].sum().reset_index()\n",
    "bins = [0, 500, 1000, 5000, 10000, 20000, 50000, 100000]\n",
    "labels = ['0-500', '500-1000', '1000-5000', '5000-10000', '10000-20000', '20000-50000', '50000+']\n",
    "user_agg['amount_bin'] = pd.cut(user_agg['amount_n26_currency'], bins=bins, labels=labels, include_lowest=True)\n",
    "bin_counts = user_agg['amount_bin'].value_counts().sort_index()\n",
    "\n",
    "# barplot for user-based outliers\n",
    "plt.figure(figsize=(10, 6))\n",
    "bin_counts.plot(kind='bar')\n",
    "plt.title('Distribution of Users by Total Transaction Amount')\n",
    "plt.xlabel('Transaction Amount Range')\n",
    "plt.ylabel('Number of Users')\n",
    "plt.xticks(rotation=45)\n",
    "plt.show()"
   ]
  },
  {
   "cell_type": "code",
   "execution_count": 70,
   "metadata": {},
   "outputs": [
    {
     "data": {
      "image/png": "[encoded data removed]",
      "text/plain": [
       "<Figure size 1000x600 with 1 Axes>"
      ]
     },
     "metadata": {},
     "output_type": "display_data"
    }
   ],
   "source": [
    "#IQR of Transaction Amounts\n",
    "plt.figure(figsize=(10, 6))\n",
    "sns.boxplot(x=df['amount_n26_currency'])\n",
    "plt.title('IQR of Transaction Amounts')\n",
    "plt.xlabel('Transaction Amount')\n",
    "plt.show()"
   ]
  },
  {
   "cell_type": "code",
   "execution_count": 90,
   "metadata": {},
   "outputs": [],
   "source": [
    "# divide transactions into expense and income\n",
    "transaction_classification = {\n",
    "    'PT': 'Expense',\n",
    "    'DD': 'Expense',\n",
    "    'DR': 'Income',\n",
    "    'CT': 'Income',\n",
    "    'FT': 'Expense',\n",
    "    'BBU': 'Income',\n",
    "    'BUB': 'Expense',\n",
    "    'DT': 'Income',\n",
    "    'TUB': 'Expense'\n",
    "}\n",
    "\n",
    "df['transaction_flow'] = df['transaction_type'].map(transaction_classification)"
   ]
  },
  {
   "cell_type": "code",
   "execution_count": 91,
   "metadata": {},
   "outputs": [],
   "source": [
    "# Group the data by 'month' and 'transaction_flow' (Income/Expense) and sum the amounts\n",
    "monthly_totals = df.groupby(['month', 'transaction_flow'])['amount_n26_currency'].sum().unstack()\n",
    "\n",
    "# Fill any missing values with 0 (if some months don't have income or expenses)\n",
    "monthly_totals.fillna(0, inplace=True)"
   ]
  },
  {
   "cell_type": "code",
   "execution_count": 92,
   "metadata": {},
   "outputs": [
    {
     "data": {
      "text/plain": [
       "month\n",
       "2016-02    2031898\n",
       "2016-03    2280448\n",
       "2016-04    2319689\n",
       "2016-05    2317467\n",
       "2016-06    2336558\n",
       "2016-07    2365555\n",
       "Freq: M, Name: Income, dtype: int64"
      ]
     },
     "execution_count": 92,
     "metadata": {},
     "output_type": "execute_result"
    }
   ],
   "source": [
    "monthly_totals['Income']"
   ]
  },
  {
   "cell_type": "code",
   "execution_count": 93,
   "metadata": {},
   "outputs": [
    {
     "data": {
      "text/plain": [
       "month\n",
       "2016-02    1086801\n",
       "2016-03    1297425\n",
       "2016-04    1308399\n",
       "2016-05    1397871\n",
       "2016-06    1374349\n",
       "2016-07    1440128\n",
       "Freq: M, Name: Expense, dtype: int64"
      ]
     },
     "execution_count": 93,
     "metadata": {},
     "output_type": "execute_result"
    }
   ],
   "source": [
    "monthly_totals['Expense']"
   ]
  },
  {
   "cell_type": "code",
   "execution_count": 94,
   "metadata": {},
   "outputs": [
    {
     "data": {
      "image/png": "[encoded data removed]",
      "text/plain": [
       "<Figure size 1000x600 with 1 Axes>"
      ]
     },
     "metadata": {},
     "output_type": "display_data"
    }
   ],
   "source": [
    "#  income and expenses over months\n",
    "plt.figure(figsize=(10, 6))\n",
    "# \n",
    "plt.plot(monthly_totals.index.astype(str), monthly_totals['Income'], label='Income', marker='o')\n",
    "\n",
    "# Plot Expenses\n",
    "plt.plot(monthly_totals.index.astype(str), monthly_totals['Expense'], label='Expenses', marker='o')\n",
    "\n",
    "# Adding titles and labels\n",
    "plt.title('Income and Expenses Over Time')\n",
    "plt.xlabel('Month')\n",
    "plt.ylabel('Total Amount')\n",
    "plt.xticks(rotation=45)\n",
    "plt.legend()\n",
    "\n",
    "# Show the plot\n",
    "plt.tight_layout()\n",
    "plt.show()\n"
   ]
  },
  {
   "cell_type": "markdown",
   "metadata": {},
   "source": [
    "## Data Preprocessing"
   ]
  },
  {
   "cell_type": "markdown",
   "metadata": {},
   "source": [
    "### Handling Missing values and duplicates"
   ]
  },
  {
   "cell_type": "code",
   "execution_count": 95,
   "metadata": {},
   "outputs": [
    {
     "name": "stdout",
     "output_type": "stream",
     "text": [
      "user_id                     0\n",
      "transaction_date            0\n",
      "transaction_type            0\n",
      "mcc_group              150222\n",
      "amount_n26_currency         0\n",
      "dataset_transaction         0\n",
      "dataset_user                0\n",
      "mcc_group_category          0\n",
      "transaction_flow            0\n",
      "month                       0\n",
      "dtype: int64\n"
     ]
    }
   ],
   "source": [
    "print(df.isnull().sum())"
   ]
  },
  {
   "cell_type": "code",
   "execution_count": 96,
   "metadata": {},
   "outputs": [
    {
     "data": {
      "text/html": [
       "<div>\n",
       "<style scoped>\n",
       "    .dataframe tbody tr th:only-of-type {\n",
       "        vertical-align: middle;\n",
       "    }\n",
       "\n",
       "    .dataframe tbody tr th {\n",
       "        vertical-align: top;\n",
       "    }\n",
       "\n",
       "    .dataframe thead th {\n",
       "        text-align: right;\n",
       "    }\n",
       "</style>\n",
       "<table border=\"1\" class=\"dataframe\">\n",
       "  <thead>\n",
       "    <tr style=\"text-align: right;\">\n",
       "      <th>mcc_group_category</th>\n",
       "      <th>ATM</th>\n",
       "      <th>Automotive/Gas</th>\n",
       "      <th>Business Expenses</th>\n",
       "      <th>Drugstore</th>\n",
       "      <th>Education</th>\n",
       "      <th>Entertainment/Leisure</th>\n",
       "      <th>Family/Babies/Children</th>\n",
       "      <th>Finance</th>\n",
       "      <th>Gastronomie</th>\n",
       "      <th>Groceries</th>\n",
       "      <th>Home and DIY, House Energy</th>\n",
       "      <th>Insurance</th>\n",
       "      <th>Miscellaneous</th>\n",
       "      <th>NA</th>\n",
       "      <th>Shopping/(Fashion)</th>\n",
       "      <th>Taxes and Fines</th>\n",
       "      <th>Transport</th>\n",
       "      <th>Travel/Hotel</th>\n",
       "    </tr>\n",
       "    <tr>\n",
       "      <th>transaction_type</th>\n",
       "      <th></th>\n",
       "      <th></th>\n",
       "      <th></th>\n",
       "      <th></th>\n",
       "      <th></th>\n",
       "      <th></th>\n",
       "      <th></th>\n",
       "      <th></th>\n",
       "      <th></th>\n",
       "      <th></th>\n",
       "      <th></th>\n",
       "      <th></th>\n",
       "      <th></th>\n",
       "      <th></th>\n",
       "      <th></th>\n",
       "      <th></th>\n",
       "      <th></th>\n",
       "      <th></th>\n",
       "    </tr>\n",
       "  </thead>\n",
       "  <tbody>\n",
       "    <tr>\n",
       "      <th>BBU</th>\n",
       "      <td>0</td>\n",
       "      <td>0</td>\n",
       "      <td>0</td>\n",
       "      <td>0</td>\n",
       "      <td>0</td>\n",
       "      <td>0</td>\n",
       "      <td>0</td>\n",
       "      <td>0</td>\n",
       "      <td>0</td>\n",
       "      <td>0</td>\n",
       "      <td>0</td>\n",
       "      <td>0</td>\n",
       "      <td>0</td>\n",
       "      <td>3561</td>\n",
       "      <td>0</td>\n",
       "      <td>0</td>\n",
       "      <td>0</td>\n",
       "      <td>0</td>\n",
       "    </tr>\n",
       "    <tr>\n",
       "      <th>BUB</th>\n",
       "      <td>0</td>\n",
       "      <td>0</td>\n",
       "      <td>0</td>\n",
       "      <td>0</td>\n",
       "      <td>0</td>\n",
       "      <td>0</td>\n",
       "      <td>0</td>\n",
       "      <td>0</td>\n",
       "      <td>0</td>\n",
       "      <td>0</td>\n",
       "      <td>0</td>\n",
       "      <td>0</td>\n",
       "      <td>0</td>\n",
       "      <td>942</td>\n",
       "      <td>0</td>\n",
       "      <td>0</td>\n",
       "      <td>0</td>\n",
       "      <td>0</td>\n",
       "    </tr>\n",
       "    <tr>\n",
       "      <th>CT</th>\n",
       "      <td>0</td>\n",
       "      <td>0</td>\n",
       "      <td>0</td>\n",
       "      <td>0</td>\n",
       "      <td>0</td>\n",
       "      <td>0</td>\n",
       "      <td>0</td>\n",
       "      <td>0</td>\n",
       "      <td>0</td>\n",
       "      <td>0</td>\n",
       "      <td>0</td>\n",
       "      <td>0</td>\n",
       "      <td>0</td>\n",
       "      <td>63837</td>\n",
       "      <td>0</td>\n",
       "      <td>0</td>\n",
       "      <td>0</td>\n",
       "      <td>0</td>\n",
       "    </tr>\n",
       "    <tr>\n",
       "      <th>DD</th>\n",
       "      <td>0</td>\n",
       "      <td>0</td>\n",
       "      <td>0</td>\n",
       "      <td>0</td>\n",
       "      <td>0</td>\n",
       "      <td>0</td>\n",
       "      <td>0</td>\n",
       "      <td>0</td>\n",
       "      <td>0</td>\n",
       "      <td>0</td>\n",
       "      <td>0</td>\n",
       "      <td>0</td>\n",
       "      <td>0</td>\n",
       "      <td>29869</td>\n",
       "      <td>0</td>\n",
       "      <td>0</td>\n",
       "      <td>0</td>\n",
       "      <td>0</td>\n",
       "    </tr>\n",
       "    <tr>\n",
       "      <th>DR</th>\n",
       "      <td>0</td>\n",
       "      <td>0</td>\n",
       "      <td>0</td>\n",
       "      <td>0</td>\n",
       "      <td>0</td>\n",
       "      <td>0</td>\n",
       "      <td>0</td>\n",
       "      <td>0</td>\n",
       "      <td>0</td>\n",
       "      <td>0</td>\n",
       "      <td>0</td>\n",
       "      <td>0</td>\n",
       "      <td>0</td>\n",
       "      <td>4727</td>\n",
       "      <td>0</td>\n",
       "      <td>0</td>\n",
       "      <td>0</td>\n",
       "      <td>0</td>\n",
       "    </tr>\n",
       "    <tr>\n",
       "      <th>DT</th>\n",
       "      <td>0</td>\n",
       "      <td>0</td>\n",
       "      <td>0</td>\n",
       "      <td>0</td>\n",
       "      <td>0</td>\n",
       "      <td>0</td>\n",
       "      <td>0</td>\n",
       "      <td>0</td>\n",
       "      <td>0</td>\n",
       "      <td>0</td>\n",
       "      <td>0</td>\n",
       "      <td>0</td>\n",
       "      <td>0</td>\n",
       "      <td>40528</td>\n",
       "      <td>0</td>\n",
       "      <td>0</td>\n",
       "      <td>0</td>\n",
       "      <td>0</td>\n",
       "    </tr>\n",
       "    <tr>\n",
       "      <th>FT</th>\n",
       "      <td>0</td>\n",
       "      <td>0</td>\n",
       "      <td>0</td>\n",
       "      <td>0</td>\n",
       "      <td>0</td>\n",
       "      <td>0</td>\n",
       "      <td>0</td>\n",
       "      <td>0</td>\n",
       "      <td>0</td>\n",
       "      <td>0</td>\n",
       "      <td>0</td>\n",
       "      <td>0</td>\n",
       "      <td>0</td>\n",
       "      <td>6528</td>\n",
       "      <td>0</td>\n",
       "      <td>0</td>\n",
       "      <td>0</td>\n",
       "      <td>0</td>\n",
       "    </tr>\n",
       "    <tr>\n",
       "      <th>PT</th>\n",
       "      <td>69807</td>\n",
       "      <td>20610</td>\n",
       "      <td>11466</td>\n",
       "      <td>5803</td>\n",
       "      <td>329</td>\n",
       "      <td>7282</td>\n",
       "      <td>287</td>\n",
       "      <td>873</td>\n",
       "      <td>20875</td>\n",
       "      <td>50586</td>\n",
       "      <td>3337</td>\n",
       "      <td>141</td>\n",
       "      <td>11150</td>\n",
       "      <td>0</td>\n",
       "      <td>20194</td>\n",
       "      <td>24</td>\n",
       "      <td>10888</td>\n",
       "      <td>24672</td>\n",
       "    </tr>\n",
       "    <tr>\n",
       "      <th>TUB</th>\n",
       "      <td>0</td>\n",
       "      <td>0</td>\n",
       "      <td>0</td>\n",
       "      <td>0</td>\n",
       "      <td>0</td>\n",
       "      <td>0</td>\n",
       "      <td>0</td>\n",
       "      <td>0</td>\n",
       "      <td>0</td>\n",
       "      <td>0</td>\n",
       "      <td>0</td>\n",
       "      <td>0</td>\n",
       "      <td>0</td>\n",
       "      <td>230</td>\n",
       "      <td>0</td>\n",
       "      <td>0</td>\n",
       "      <td>0</td>\n",
       "      <td>0</td>\n",
       "    </tr>\n",
       "  </tbody>\n",
       "</table>\n",
       "</div>"
      ],
      "text/plain": [
       "mcc_group_category    ATM  Automotive/Gas  Business Expenses  Drugstore  \\\n",
       "transaction_type                                                          \n",
       "BBU                     0               0                  0          0   \n",
       "BUB                     0               0                  0          0   \n",
       "CT                      0               0                  0          0   \n",
       "DD                      0               0                  0          0   \n",
       "DR                      0               0                  0          0   \n",
       "DT                      0               0                  0          0   \n",
       "FT                      0               0                  0          0   \n",
       "PT                  69807           20610              11466       5803   \n",
       "TUB                     0               0                  0          0   \n",
       "\n",
       "mcc_group_category  Education  Entertainment/Leisure  Family/Babies/Children  \\\n",
       "transaction_type                                                               \n",
       "BBU                         0                      0                       0   \n",
       "BUB                         0                      0                       0   \n",
       "CT                          0                      0                       0   \n",
       "DD                          0                      0                       0   \n",
       "DR                          0                      0                       0   \n",
       "DT                          0                      0                       0   \n",
       "FT                          0                      0                       0   \n",
       "PT                        329                   7282                     287   \n",
       "TUB                         0                      0                       0   \n",
       "\n",
       "mcc_group_category  Finance  Gastronomie  Groceries  \\\n",
       "transaction_type                                      \n",
       "BBU                       0            0          0   \n",
       "BUB                       0            0          0   \n",
       "CT                        0            0          0   \n",
       "DD                        0            0          0   \n",
       "DR                        0            0          0   \n",
       "DT                        0            0          0   \n",
       "FT                        0            0          0   \n",
       "PT                      873        20875      50586   \n",
       "TUB                       0            0          0   \n",
       "\n",
       "mcc_group_category  Home and DIY, House Energy  Insurance  Miscellaneous  \\\n",
       "transaction_type                                                           \n",
       "BBU                                          0          0              0   \n",
       "BUB                                          0          0              0   \n",
       "CT                                           0          0              0   \n",
       "DD                                           0          0              0   \n",
       "DR                                           0          0              0   \n",
       "DT                                           0          0              0   \n",
       "FT                                           0          0              0   \n",
       "PT                                        3337        141          11150   \n",
       "TUB                                          0          0              0   \n",
       "\n",
       "mcc_group_category     NA  Shopping/(Fashion)  Taxes and Fines  Transport  \\\n",
       "transaction_type                                                            \n",
       "BBU                  3561                   0                0          0   \n",
       "BUB                   942                   0                0          0   \n",
       "CT                  63837                   0                0          0   \n",
       "DD                  29869                   0                0          0   \n",
       "DR                   4727                   0                0          0   \n",
       "DT                  40528                   0                0          0   \n",
       "FT                   6528                   0                0          0   \n",
       "PT                      0               20194               24      10888   \n",
       "TUB                   230                   0                0          0   \n",
       "\n",
       "mcc_group_category  Travel/Hotel  \n",
       "transaction_type                  \n",
       "BBU                            0  \n",
       "BUB                            0  \n",
       "CT                             0  \n",
       "DD                             0  \n",
       "DR                             0  \n",
       "DT                             0  \n",
       "FT                             0  \n",
       "PT                         24672  \n",
       "TUB                            0  "
      ]
     },
     "execution_count": 96,
     "metadata": {},
     "output_type": "execute_result"
    }
   ],
   "source": [
    "#Is there a relationship between the missing mcc_group values and other columns?\n",
    "cross_tab = pd.crosstab(df['transaction_type'], df['mcc_group_category'])\n",
    "cross_tab"
   ]
  },
  {
   "cell_type": "code",
   "execution_count": 97,
   "metadata": {},
   "outputs": [
    {
     "data": {
      "text/html": [
       "<div>\n",
       "<style scoped>\n",
       "    .dataframe tbody tr th:only-of-type {\n",
       "        vertical-align: middle;\n",
       "    }\n",
       "\n",
       "    .dataframe tbody tr th {\n",
       "        vertical-align: top;\n",
       "    }\n",
       "\n",
       "    .dataframe thead th {\n",
       "        text-align: right;\n",
       "    }\n",
       "</style>\n",
       "<table border=\"1\" class=\"dataframe\">\n",
       "  <thead>\n",
       "    <tr style=\"text-align: right;\">\n",
       "      <th>mcc_group_category</th>\n",
       "      <th>ATM</th>\n",
       "      <th>Automotive/Gas</th>\n",
       "      <th>Business Expenses</th>\n",
       "      <th>Drugstore</th>\n",
       "      <th>Education</th>\n",
       "      <th>Entertainment/Leisure</th>\n",
       "      <th>Family/Babies/Children</th>\n",
       "      <th>Finance</th>\n",
       "      <th>Gastronomie</th>\n",
       "      <th>Groceries</th>\n",
       "      <th>Home and DIY, House Energy</th>\n",
       "      <th>Insurance</th>\n",
       "      <th>Miscellaneous</th>\n",
       "      <th>NA</th>\n",
       "      <th>Shopping/(Fashion)</th>\n",
       "      <th>Taxes and Fines</th>\n",
       "      <th>Transport</th>\n",
       "      <th>Travel/Hotel</th>\n",
       "    </tr>\n",
       "    <tr>\n",
       "      <th>transaction_flow</th>\n",
       "      <th></th>\n",
       "      <th></th>\n",
       "      <th></th>\n",
       "      <th></th>\n",
       "      <th></th>\n",
       "      <th></th>\n",
       "      <th></th>\n",
       "      <th></th>\n",
       "      <th></th>\n",
       "      <th></th>\n",
       "      <th></th>\n",
       "      <th></th>\n",
       "      <th></th>\n",
       "      <th></th>\n",
       "      <th></th>\n",
       "      <th></th>\n",
       "      <th></th>\n",
       "      <th></th>\n",
       "    </tr>\n",
       "  </thead>\n",
       "  <tbody>\n",
       "    <tr>\n",
       "      <th>Expense</th>\n",
       "      <td>69807</td>\n",
       "      <td>20610</td>\n",
       "      <td>11466</td>\n",
       "      <td>5803</td>\n",
       "      <td>329</td>\n",
       "      <td>7282</td>\n",
       "      <td>287</td>\n",
       "      <td>873</td>\n",
       "      <td>20875</td>\n",
       "      <td>50586</td>\n",
       "      <td>3337</td>\n",
       "      <td>141</td>\n",
       "      <td>11150</td>\n",
       "      <td>37569</td>\n",
       "      <td>20194</td>\n",
       "      <td>24</td>\n",
       "      <td>10888</td>\n",
       "      <td>24672</td>\n",
       "    </tr>\n",
       "    <tr>\n",
       "      <th>Income</th>\n",
       "      <td>0</td>\n",
       "      <td>0</td>\n",
       "      <td>0</td>\n",
       "      <td>0</td>\n",
       "      <td>0</td>\n",
       "      <td>0</td>\n",
       "      <td>0</td>\n",
       "      <td>0</td>\n",
       "      <td>0</td>\n",
       "      <td>0</td>\n",
       "      <td>0</td>\n",
       "      <td>0</td>\n",
       "      <td>0</td>\n",
       "      <td>112653</td>\n",
       "      <td>0</td>\n",
       "      <td>0</td>\n",
       "      <td>0</td>\n",
       "      <td>0</td>\n",
       "    </tr>\n",
       "  </tbody>\n",
       "</table>\n",
       "</div>"
      ],
      "text/plain": [
       "mcc_group_category    ATM  Automotive/Gas  Business Expenses  Drugstore  \\\n",
       "transaction_flow                                                          \n",
       "Expense             69807           20610              11466       5803   \n",
       "Income                  0               0                  0          0   \n",
       "\n",
       "mcc_group_category  Education  Entertainment/Leisure  Family/Babies/Children  \\\n",
       "transaction_flow                                                               \n",
       "Expense                   329                   7282                     287   \n",
       "Income                      0                      0                       0   \n",
       "\n",
       "mcc_group_category  Finance  Gastronomie  Groceries  \\\n",
       "transaction_flow                                      \n",
       "Expense                 873        20875      50586   \n",
       "Income                    0            0          0   \n",
       "\n",
       "mcc_group_category  Home and DIY, House Energy  Insurance  Miscellaneous  \\\n",
       "transaction_flow                                                           \n",
       "Expense                                   3337        141          11150   \n",
       "Income                                       0          0              0   \n",
       "\n",
       "mcc_group_category      NA  Shopping/(Fashion)  Taxes and Fines  Transport  \\\n",
       "transaction_flow                                                             \n",
       "Expense              37569               20194               24      10888   \n",
       "Income              112653                   0                0          0   \n",
       "\n",
       "mcc_group_category  Travel/Hotel  \n",
       "transaction_flow                  \n",
       "Expense                    24672  \n",
       "Income                         0  "
      ]
     },
     "execution_count": 97,
     "metadata": {},
     "output_type": "execute_result"
    }
   ],
   "source": [
    "# Create the crosstab comparing transaction_flow with mcc_group_category\n",
    "income_expense_crosstab = pd.crosstab(df['transaction_flow'], df['mcc_group_category'])\n",
    "income_expense_crosstab"
   ]
  },
  {
   "cell_type": "code",
   "execution_count": 98,
   "metadata": {},
   "outputs": [],
   "source": [
    "# For non-PT transactions assign Bank Transaction to CT, DT, DD, FT, and DR, which are typical bank-related transactions.\n",
    "# and Partner Transaction to BBU, BUB, and TUB, which seem to involve partners.\n",
    "# Label non-card transactions as 'Bank Transaction' and 'Partner Transaction'\n",
    "\n",
    "non_card_bank_types = ['CT', 'DT', 'DD', 'FT', 'DR']  # Bank-related transactions\n",
    "partner_types = ['BBU', 'BUB', 'TUB']  # Partner-related transactions\n",
    "\n",
    "# Apply labeling to category\n",
    "df['mcc_group_category'] = df.apply(lambda x: 'Bank Transaction' if x['transaction_type'] in non_card_bank_types else \n",
    "                           ('Partner Transaction' if x['transaction_type'] in partner_types else x['mcc_group_category']), axis=1)\n",
    "\n",
    "# Apply labeling: assign 18 for Bank Transactions and 19 for Partner Transactions\n",
    "df['mcc_group'] = df.apply(lambda x: 18 if x['transaction_type'] in non_card_bank_types else \n",
    "                           (19 if x['transaction_type'] in partner_types else x['mcc_group']), axis=1)\n"
   ]
  },
  {
   "cell_type": "code",
   "execution_count": 99,
   "metadata": {},
   "outputs": [
    {
     "name": "stdout",
     "output_type": "stream",
     "text": [
      "<class 'pandas.core.frame.DataFrame'>\n",
      "RangeIndex: 408546 entries, 0 to 408545\n",
      "Data columns (total 10 columns):\n",
      " #   Column               Non-Null Count   Dtype         \n",
      "---  ------               --------------   -----         \n",
      " 0   user_id              408546 non-null  object        \n",
      " 1   transaction_date     408546 non-null  datetime64[ns]\n",
      " 2   transaction_type     408546 non-null  object        \n",
      " 3   mcc_group            408546 non-null  float64       \n",
      " 4   amount_n26_currency  408546 non-null  int64         \n",
      " 5   dataset_transaction  408546 non-null  object        \n",
      " 6   dataset_user         408546 non-null  object        \n",
      " 7   mcc_group_category   408546 non-null  object        \n",
      " 8   transaction_flow     408546 non-null  object        \n",
      " 9   month                408546 non-null  period[M]     \n",
      "dtypes: datetime64[ns](1), float64(1), int64(1), object(6), period[M](1)\n",
      "memory usage: 31.2+ MB\n",
      "user_id                0\n",
      "transaction_date       0\n",
      "transaction_type       0\n",
      "mcc_group              0\n",
      "amount_n26_currency    0\n",
      "dataset_transaction    0\n",
      "dataset_user           0\n",
      "mcc_group_category     0\n",
      "transaction_flow       0\n",
      "month                  0\n",
      "dtype: int64\n"
     ]
    }
   ],
   "source": [
    "df.info()\n",
    "print(df.isnull().sum())"
   ]
  },
  {
   "cell_type": "code",
   "execution_count": 100,
   "metadata": {},
   "outputs": [
    {
     "data": {
      "text/plain": [
       "mcc_group  mcc_group_category        \n",
       "1.0        ATM                            69807\n",
       "2.0        Groceries                      50586\n",
       "3.0        Gastronomie                    20875\n",
       "4.0        Shopping/(Fashion)             20194\n",
       "5.0        Home and DIY, House Energy      3337\n",
       "6.0        Travel/Hotel                   24672\n",
       "7.0        Transport                      10888\n",
       "8.0        Automotive/Gas                 20610\n",
       "9.0        Family/Babies/Children           287\n",
       "10.0       Entertainment/Leisure           7282\n",
       "11.0       Drugstore                       5803\n",
       "12.0       Finance                          873\n",
       "13.0       Insurance                        141\n",
       "14.0       Taxes and Fines                   24\n",
       "15.0       Education                        329\n",
       "16.0       Miscellaneous                  11150\n",
       "17.0       Business Expenses              11466\n",
       "18.0       Bank Transaction              145489\n",
       "19.0       Partner Transaction             4733\n",
       "Name: count, dtype: int64"
      ]
     },
     "execution_count": 100,
     "metadata": {},
     "output_type": "execute_result"
    }
   ],
   "source": [
    "df[['mcc_group', 'mcc_group_category']].value_counts().sort_index()"
   ]
  },
  {
   "cell_type": "code",
   "execution_count": 101,
   "metadata": {},
   "outputs": [
    {
     "data": {
      "text/html": [
       "<div>\n",
       "<style scoped>\n",
       "    .dataframe tbody tr th:only-of-type {\n",
       "        vertical-align: middle;\n",
       "    }\n",
       "\n",
       "    .dataframe tbody tr th {\n",
       "        vertical-align: top;\n",
       "    }\n",
       "\n",
       "    .dataframe thead th {\n",
       "        text-align: right;\n",
       "    }\n",
       "</style>\n",
       "<table border=\"1\" class=\"dataframe\">\n",
       "  <thead>\n",
       "    <tr style=\"text-align: right;\">\n",
       "      <th></th>\n",
       "      <th>user_id</th>\n",
       "      <th>transaction_date</th>\n",
       "      <th>transaction_type</th>\n",
       "      <th>mcc_group</th>\n",
       "      <th>amount_n26_currency</th>\n",
       "      <th>dataset_transaction</th>\n",
       "      <th>dataset_user</th>\n",
       "      <th>mcc_group_category</th>\n",
       "      <th>transaction_flow</th>\n",
       "      <th>month</th>\n",
       "    </tr>\n",
       "  </thead>\n",
       "  <tbody>\n",
       "    <tr>\n",
       "      <th>52</th>\n",
       "      <td>d676b47c24ee99835d24e38953cf7ab6</td>\n",
       "      <td>2016-02-01</td>\n",
       "      <td>DT</td>\n",
       "      <td>18.0</td>\n",
       "      <td>15</td>\n",
       "      <td>training</td>\n",
       "      <td>training</td>\n",
       "      <td>Bank Transaction</td>\n",
       "      <td>Income</td>\n",
       "      <td>2016-02</td>\n",
       "    </tr>\n",
       "    <tr>\n",
       "      <th>70</th>\n",
       "      <td>ce8150cf1461297516d4f65d8258a36b</td>\n",
       "      <td>2016-02-01</td>\n",
       "      <td>DT</td>\n",
       "      <td>18.0</td>\n",
       "      <td>5</td>\n",
       "      <td>training</td>\n",
       "      <td>training</td>\n",
       "      <td>Bank Transaction</td>\n",
       "      <td>Income</td>\n",
       "      <td>2016-02</td>\n",
       "    </tr>\n",
       "    <tr>\n",
       "      <th>84</th>\n",
       "      <td>ce8150cf1461297516d4f65d8258a36b</td>\n",
       "      <td>2016-02-01</td>\n",
       "      <td>DT</td>\n",
       "      <td>18.0</td>\n",
       "      <td>5</td>\n",
       "      <td>training</td>\n",
       "      <td>training</td>\n",
       "      <td>Bank Transaction</td>\n",
       "      <td>Income</td>\n",
       "      <td>2016-02</td>\n",
       "    </tr>\n",
       "    <tr>\n",
       "      <th>93</th>\n",
       "      <td>ea589a947c4c128a6c6b81fb35605d40</td>\n",
       "      <td>2016-02-01</td>\n",
       "      <td>DT</td>\n",
       "      <td>18.0</td>\n",
       "      <td>5</td>\n",
       "      <td>training</td>\n",
       "      <td>training</td>\n",
       "      <td>Bank Transaction</td>\n",
       "      <td>Income</td>\n",
       "      <td>2016-02</td>\n",
       "    </tr>\n",
       "    <tr>\n",
       "      <th>102</th>\n",
       "      <td>dc879d41982dfa14abb14d96818eadd2</td>\n",
       "      <td>2016-02-01</td>\n",
       "      <td>DT</td>\n",
       "      <td>18.0</td>\n",
       "      <td>19</td>\n",
       "      <td>training</td>\n",
       "      <td>training</td>\n",
       "      <td>Bank Transaction</td>\n",
       "      <td>Income</td>\n",
       "      <td>2016-02</td>\n",
       "    </tr>\n",
       "    <tr>\n",
       "      <th>...</th>\n",
       "      <td>...</td>\n",
       "      <td>...</td>\n",
       "      <td>...</td>\n",
       "      <td>...</td>\n",
       "      <td>...</td>\n",
       "      <td>...</td>\n",
       "      <td>...</td>\n",
       "      <td>...</td>\n",
       "      <td>...</td>\n",
       "      <td>...</td>\n",
       "    </tr>\n",
       "    <tr>\n",
       "      <th>408296</th>\n",
       "      <td>dd99d81a087d354cc6131ec386800d22</td>\n",
       "      <td>2016-07-31</td>\n",
       "      <td>DT</td>\n",
       "      <td>18.0</td>\n",
       "      <td>19</td>\n",
       "      <td>training</td>\n",
       "      <td>training</td>\n",
       "      <td>Bank Transaction</td>\n",
       "      <td>Income</td>\n",
       "      <td>2016-07</td>\n",
       "    </tr>\n",
       "    <tr>\n",
       "      <th>408300</th>\n",
       "      <td>b6caa44ddab07f100ad5fc4927fd563e</td>\n",
       "      <td>2016-07-31</td>\n",
       "      <td>PT</td>\n",
       "      <td>1.0</td>\n",
       "      <td>19</td>\n",
       "      <td>training</td>\n",
       "      <td>training</td>\n",
       "      <td>ATM</td>\n",
       "      <td>Expense</td>\n",
       "      <td>2016-07</td>\n",
       "    </tr>\n",
       "    <tr>\n",
       "      <th>408307</th>\n",
       "      <td>c00d31436e6a8aabc179b8f138a3ffd4</td>\n",
       "      <td>2016-07-31</td>\n",
       "      <td>PT</td>\n",
       "      <td>1.0</td>\n",
       "      <td>194</td>\n",
       "      <td>training</td>\n",
       "      <td>training</td>\n",
       "      <td>ATM</td>\n",
       "      <td>Expense</td>\n",
       "      <td>2016-07</td>\n",
       "    </tr>\n",
       "    <tr>\n",
       "      <th>408493</th>\n",
       "      <td>3967d1c646a5c68aa3e64294cd77b263</td>\n",
       "      <td>2016-07-31</td>\n",
       "      <td>DT</td>\n",
       "      <td>18.0</td>\n",
       "      <td>5</td>\n",
       "      <td>training</td>\n",
       "      <td>training</td>\n",
       "      <td>Bank Transaction</td>\n",
       "      <td>Income</td>\n",
       "      <td>2016-07</td>\n",
       "    </tr>\n",
       "    <tr>\n",
       "      <th>408544</th>\n",
       "      <td>918eb93c2d3b084614e3570886715f84</td>\n",
       "      <td>2016-07-31</td>\n",
       "      <td>DT</td>\n",
       "      <td>18.0</td>\n",
       "      <td>19</td>\n",
       "      <td>training</td>\n",
       "      <td>training</td>\n",
       "      <td>Bank Transaction</td>\n",
       "      <td>Income</td>\n",
       "      <td>2016-07</td>\n",
       "    </tr>\n",
       "  </tbody>\n",
       "</table>\n",
       "<p>10225 rows × 10 columns</p>\n",
       "</div>"
      ],
      "text/plain": [
       "                                 user_id transaction_date transaction_type  \\\n",
       "52      d676b47c24ee99835d24e38953cf7ab6       2016-02-01               DT   \n",
       "70      ce8150cf1461297516d4f65d8258a36b       2016-02-01               DT   \n",
       "84      ce8150cf1461297516d4f65d8258a36b       2016-02-01               DT   \n",
       "93      ea589a947c4c128a6c6b81fb35605d40       2016-02-01               DT   \n",
       "102     dc879d41982dfa14abb14d96818eadd2       2016-02-01               DT   \n",
       "...                                  ...              ...              ...   \n",
       "408296  dd99d81a087d354cc6131ec386800d22       2016-07-31               DT   \n",
       "408300  b6caa44ddab07f100ad5fc4927fd563e       2016-07-31               PT   \n",
       "408307  c00d31436e6a8aabc179b8f138a3ffd4       2016-07-31               PT   \n",
       "408493  3967d1c646a5c68aa3e64294cd77b263       2016-07-31               DT   \n",
       "408544  918eb93c2d3b084614e3570886715f84       2016-07-31               DT   \n",
       "\n",
       "        mcc_group  amount_n26_currency dataset_transaction dataset_user  \\\n",
       "52           18.0                   15            training     training   \n",
       "70           18.0                    5            training     training   \n",
       "84           18.0                    5            training     training   \n",
       "93           18.0                    5            training     training   \n",
       "102          18.0                   19            training     training   \n",
       "...           ...                  ...                 ...          ...   \n",
       "408296       18.0                   19            training     training   \n",
       "408300        1.0                   19            training     training   \n",
       "408307        1.0                  194            training     training   \n",
       "408493       18.0                    5            training     training   \n",
       "408544       18.0                   19            training     training   \n",
       "\n",
       "       mcc_group_category transaction_flow    month  \n",
       "52       Bank Transaction           Income  2016-02  \n",
       "70       Bank Transaction           Income  2016-02  \n",
       "84       Bank Transaction           Income  2016-02  \n",
       "93       Bank Transaction           Income  2016-02  \n",
       "102      Bank Transaction           Income  2016-02  \n",
       "...                   ...              ...      ...  \n",
       "408296   Bank Transaction           Income  2016-07  \n",
       "408300                ATM          Expense  2016-07  \n",
       "408307                ATM          Expense  2016-07  \n",
       "408493   Bank Transaction           Income  2016-07  \n",
       "408544   Bank Transaction           Income  2016-07  \n",
       "\n",
       "[10225 rows x 10 columns]"
      ]
     },
     "execution_count": 101,
     "metadata": {},
     "output_type": "execute_result"
    }
   ],
   "source": [
    "duplicates = df.duplicated()\n",
    "duplicates.sum()\n",
    "df[duplicates]"
   ]
  },
  {
   "cell_type": "code",
   "execution_count": 102,
   "metadata": {},
   "outputs": [
    {
     "name": "stdout",
     "output_type": "stream",
     "text": [
      "<class 'pandas.core.frame.DataFrame'>\n",
      "Index: 398321 entries, 0 to 408545\n",
      "Data columns (total 10 columns):\n",
      " #   Column               Non-Null Count   Dtype         \n",
      "---  ------               --------------   -----         \n",
      " 0   user_id              398321 non-null  object        \n",
      " 1   transaction_date     398321 non-null  datetime64[ns]\n",
      " 2   transaction_type     398321 non-null  object        \n",
      " 3   mcc_group            398321 non-null  float64       \n",
      " 4   amount_n26_currency  398321 non-null  int64         \n",
      " 5   dataset_transaction  398321 non-null  object        \n",
      " 6   dataset_user         398321 non-null  object        \n",
      " 7   mcc_group_category   398321 non-null  object        \n",
      " 8   transaction_flow     398321 non-null  object        \n",
      " 9   month                398321 non-null  period[M]     \n",
      "dtypes: datetime64[ns](1), float64(1), int64(1), object(6), period[M](1)\n",
      "memory usage: 33.4+ MB\n",
      "user_id                0\n",
      "transaction_date       0\n",
      "transaction_type       0\n",
      "mcc_group              0\n",
      "amount_n26_currency    0\n",
      "dataset_transaction    0\n",
      "dataset_user           0\n",
      "mcc_group_category     0\n",
      "transaction_flow       0\n",
      "month                  0\n",
      "dtype: int64\n"
     ]
    }
   ],
   "source": [
    "df_cleaned = df.drop_duplicates()\n",
    "df_cleaned.info()\n",
    "print(df_cleaned.isna().sum())"
   ]
  },
  {
   "cell_type": "markdown",
   "metadata": {},
   "source": [
    "### Handling Cat var"
   ]
  },
  {
   "cell_type": "markdown",
   "metadata": {},
   "source": [
    "## Time Series Analysis"
   ]
  },
  {
   "cell_type": "markdown",
   "metadata": {},
   "source": [
    "### ARIMA model"
   ]
  },
  {
   "cell_type": "markdown",
   "metadata": {},
   "source": [
    "### ETS"
   ]
  },
  {
   "cell_type": "code",
   "execution_count": null,
   "metadata": {},
   "outputs": [],
   "source": []
  }
 ],
 "metadata": {
  "kernelspec": {
   "display_name": "Python 3",
   "language": "python",
   "name": "python3"
  },
  "language_info": {
   "codemirror_mode": {
    "name": "ipython",
    "version": 3
   },
   "file_extension": ".py",
   "mimetype": "text/x-python",
   "name": "python",
   "nbconvert_exporter": "python",
   "pygments_lexer": "ipython3",
   "version": "3.12.7"
  }
 },
 "nbformat": 4,
 "nbformat_minor": 2
}
